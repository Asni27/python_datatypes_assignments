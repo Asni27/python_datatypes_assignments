{
 "cells": [
  {
   "cell_type": "markdown",
   "id": "4b65b9a8-ad41-47b0-b4b3-93ed6257dc49",
   "metadata": {},
   "source": [
    "# <span style=\"color: blue;\">TOPIC: String Based Assignment Problem</span>"
   ]
  },
  {
   "cell_type": "markdown",
   "id": "dfc0a899-a8b7-4599-93fd-df876689a85c",
   "metadata": {},
   "source": [
    "####  <span style=\"color: green;\"> 1. Write a program to reverse a string.</span>"
   ]
  },
  {
   "cell_type": "code",
   "execution_count": 1,
   "id": "e4ad94fc-91a9-4843-9068-d7f7910d18e2",
   "metadata": {},
   "outputs": [
    {
     "name": "stdin",
     "output_type": "stream",
     "text": [
      "Enter the string python programme\n"
     ]
    },
    {
     "name": "stdout",
     "output_type": "stream",
     "text": [
      "The reversed string is --- emmargorp nohtyp\n"
     ]
    }
   ],
   "source": [
    "string=input(\"Enter the string\")\n",
    "reversed_string=string[::-1]\n",
    "print(\"The reversed string is ---\",reversed_string)\n"
   ]
  },
  {
   "cell_type": "markdown",
   "id": "0ab60dcc-e04c-4f4a-891f-515e2105557a",
   "metadata": {},
   "source": [
    "#### <span style=\"color: green;\"> 2. Check if a string is a palindrome.</span> "
   ]
  },
  {
   "cell_type": "code",
   "execution_count": 8,
   "id": "b2c3e267-ae13-4377-a970-25cb4a4e3e4d",
   "metadata": {},
   "outputs": [
    {
     "name": "stdin",
     "output_type": "stream",
     "text": [
      "Enter the string : MalaYALam\n"
     ]
    },
    {
     "name": "stdout",
     "output_type": "stream",
     "text": [
      "The string is a palindrome\n",
      "This is the string after palindrome :- malayalam\n"
     ]
    }
   ],
   "source": [
    "string=input(\"Enter the string :\")\n",
    "string1=string.lower()\n",
    "string2=string1.replace(\" \",\"\")\n",
    "reverse=string2[::-1]\n",
    "if string2== reverse:\n",
    "    print(\"The string is a palindrome\")\n",
    "else :\n",
    "    print(\"The string is not a palindrome\")\n",
    "print(\"This is the string after palindrome :-\",string2)\n",
    "    "
   ]
  },
  {
   "cell_type": "markdown",
   "id": "1028b114-4d07-49fc-b7bb-e0b3607efd05",
   "metadata": {},
   "source": [
    "### <span style=\"color: green;\"> 3. Convert a string to uppercase.<span/>"
   ]
  },
  {
   "cell_type": "code",
   "execution_count": 11,
   "id": "b8cd979e-00cc-46a5-8e8d-db4770564a78",
   "metadata": {},
   "outputs": [
    {
     "data": {
      "text/plain": [
       "'ASMITA'"
      ]
     },
     "execution_count": 11,
     "metadata": {},
     "output_type": "execute_result"
    }
   ],
   "source": [
    "def up(s):\n",
    "    s=s.upper()\n",
    "    return s\n",
    "up(\"asmita\")"
   ]
  },
  {
   "cell_type": "markdown",
   "id": "b4a8f232-e081-4f62-8b3b-a38006c56f97",
   "metadata": {},
   "source": [
    "### <span style=\"color: green;\">4. Convert a string to lowercase.<span/>"
   ]
  },
  {
   "cell_type": "code",
   "execution_count": 13,
   "id": "ead0552c-cf87-4587-b70a-08eb34da749c",
   "metadata": {},
   "outputs": [
    {
     "data": {
      "text/plain": [
       "'asmita'"
      ]
     },
     "execution_count": 13,
     "metadata": {},
     "output_type": "execute_result"
    }
   ],
   "source": [
    "def low(l):\n",
    "    l=l.lower()\n",
    "    return l\n",
    "low(\"ASMitA\")"
   ]
  },
  {
   "cell_type": "markdown",
   "id": "de0b1716-5db8-440a-90cf-e044828d2658",
   "metadata": {},
   "source": [
    "### <span style =\"color: green;\">5. Count the number of vowels in a string.<span/>"
   ]
  },
  {
   "cell_type": "code",
   "execution_count": 35,
   "id": "e486b399-6bbf-487a-a188-66074a777b59",
   "metadata": {},
   "outputs": [
    {
     "name": "stdin",
     "output_type": "stream",
     "text": [
      "Enter the string :-  Checking how many vowels are there in this string\n"
     ]
    },
    {
     "name": "stdout",
     "output_type": "stream",
     "text": [
      "There are 13 vowels in the string\n"
     ]
    }
   ],
   "source": [
    "vow= ('a','e','i','o','u')\n",
    "s=input(\"Enter the string :- \")\n",
    "vow_count=0\n",
    "for i in s:\n",
    "    i_low=i.lower()\n",
    "    if i_low in vow:\n",
    "        vow_count+=1\n",
    "print(\"There are\",vow_count,\"vowels in the string\")\n",
    "    "
   ]
  },
  {
   "cell_type": "markdown",
   "id": "cabf9ef6-2e45-4bd6-8cc4-f29cbd277f1f",
   "metadata": {},
   "source": [
    "### <span style=\"color:green;\">6. Count the number of consonants in a string.<span/>"
   ]
  },
  {
   "cell_type": "code",
   "execution_count": 36,
   "id": "3fd8220c-bbb8-49a5-ac58-27caf034155c",
   "metadata": {},
   "outputs": [
    {
     "name": "stdin",
     "output_type": "stream",
     "text": [
      "Enter the string :-  Checking how many consonants are there in the string\n"
     ]
    },
    {
     "name": "stdout",
     "output_type": "stream",
     "text": [
      "There are 38 consonants in the string\n"
     ]
    }
   ],
   "source": [
    "vow= ('a','e','i','o','u')\n",
    "s=input(\"Enter the string :- \")\n",
    "cons_count=0\n",
    "for i in s:\n",
    "    i_low=i.lower()\n",
    "    if i_low not in vow:\n",
    "        cons_count+=1\n",
    "print(\"There are\",cons_count,\"consonants in the string\")\n",
    "    "
   ]
  },
  {
   "cell_type": "markdown",
   "id": "302e297b-82b3-4019-b157-5019e2a28daa",
   "metadata": {},
   "source": [
    "### <span style=\"color:green;\">7. Remove all whitespaces from a string.<span/>"
   ]
  },
  {
   "cell_type": "code",
   "execution_count": 39,
   "id": "0bd06136-9e8c-4c26-85f6-81df2ea712fc",
   "metadata": {},
   "outputs": [
    {
     "data": {
      "text/plain": [
       "'iamasmitadas.adatasciencestudent**'"
      ]
     },
     "execution_count": 39,
     "metadata": {},
     "output_type": "execute_result"
    }
   ],
   "source": [
    "def whitespace(s):\n",
    "    s=s.lower()\n",
    "    s=s.replace(\" \",\"\")\n",
    "    return s\n",
    "whitespace(\"I am Asmita Das.A data science student **\")"
   ]
  },
  {
   "cell_type": "markdown",
   "id": "ddb4b1e2-a087-4f8c-beca-fff0cd83a856",
   "metadata": {},
   "source": [
    "### <span style =\"color:green;\">8. the length of a string without using the `len()` function.<span/>"
   ]
  },
  {
   "cell_type": "code",
   "execution_count": 46,
   "id": "9b04d582-8657-488b-be45-e2b6f4668057",
   "metadata": {},
   "outputs": [
    {
     "name": "stdin",
     "output_type": "stream",
     "text": [
      "Enter the string:-  Asmita\n"
     ]
    },
    {
     "name": "stdout",
     "output_type": "stream",
     "text": [
      "The lenth of the string is :- 6\n"
     ]
    }
   ],
   "source": [
    "string_len=0\n",
    "string=input(\"Enter the string:- \")    \n",
    "for i in string:\n",
    "    string_len+=1\n",
    "print(\"The lenth of the string is :-\",string_len)"
   ]
  },
  {
   "cell_type": "markdown",
   "id": "d65db3ec-80f8-46e2-97c9-5cae7c3a100f",
   "metadata": {},
   "source": [
    "### <span style =\"color:green;\">9. Check if a string contains a specific word.<span/>"
   ]
  },
  {
   "cell_type": "code",
   "execution_count": 58,
   "id": "9b1fb6e5-fa15-41fd-8ce7-63dc8d27eab1",
   "metadata": {},
   "outputs": [
    {
     "name": "stdin",
     "output_type": "stream",
     "text": [
      "Enter the string:-  Checking if the string contains any specific word given by me.\n",
      "Enter the specific word:-  GIVen\n"
     ]
    },
    {
     "name": "stdout",
     "output_type": "stream",
     "text": [
      "Yes the sentence contains this specific word :- given\n"
     ]
    }
   ],
   "source": [
    "string=input(\"Enter the string:- \")\n",
    "string1=string.lower()\n",
    "specific_word= input(\"Enter the specific word:- \")\n",
    "specific_word1=specific_word.lower()\n",
    "if specific_word1 in  string1:\n",
    "    print (\"Yes the sentence contains this specific word :-\",specific_word1)\n",
    "else :\n",
    "    print (\"No the sentence does not contains this specific word:-\",specific_word1)\n",
    "    "
   ]
  },
  {
   "cell_type": "markdown",
   "id": "652d9481-8c9e-4245-b7f7-55c0d8c99fdd",
   "metadata": {},
   "source": [
    "### <span style =\"color:green;\">10. Replace a word in a string with another word.<span/>"
   ]
  },
  {
   "cell_type": "code",
   "execution_count": 7,
   "id": "bf9e0447-da21-46ba-83d7-e2236804a401",
   "metadata": {},
   "outputs": [
    {
     "name": "stdout",
     "output_type": "stream",
     "text": [
      "This is the older string:- This is Smita Das\n",
      "This is the new string after replace:- This is Asmita Das\n"
     ]
    }
   ],
   "source": [
    "string=\"This is Smita Das\"\n",
    "print(\"This is the older string:-\",string)\n",
    "string1= string.replace(\"Smita\",\"Asmita\")\n",
    "print(\"This is the new string after replace:-\",string1)"
   ]
  },
  {
   "cell_type": "markdown",
   "id": "61eb966e-01cf-42f0-8548-62042d1c5468",
   "metadata": {},
   "source": [
    "### <span style =\"color:green;\">11. Count the occurrences of a word in a string.<span/>"
   ]
  },
  {
   "cell_type": "code",
   "execution_count": 9,
   "id": "20d6709c-2bbe-4acd-bcb0-d1a811605462",
   "metadata": {},
   "outputs": [
    {
     "name": "stdin",
     "output_type": "stream",
     "text": [
      "Enter the string:-  This is Asmita Das and my name is asmita Das.\n"
     ]
    },
    {
     "name": "stdout",
     "output_type": "stream",
     "text": [
      "The word:- asmita occours 2 times in the input string\n"
     ]
    }
   ],
   "source": [
    "s=input(\"Enter the string:- \")\n",
    "s1=s.lower()# converting the input  string into lowercase\n",
    "s2=\"asmita\"\n",
    "s3=s3.lower()#converting the word into lowercase\n",
    "occur=s1.count(s2)# counting the occurrences of the word \n",
    "print (\"The word:-\",s2 ,\"occours\" ,occur, \"times in the input string\")\n"
   ]
  },
  {
   "cell_type": "markdown",
   "id": "5ef464b7-e31c-445f-a36f-7f0aa2bde5c5",
   "metadata": {},
   "source": [
    "### <span style =\"color:green;\">12. the first occurrence of a word in a string.<span/>"
   ]
  },
  {
   "cell_type": "code",
   "execution_count": 36,
   "id": "b0982715-3c1d-4060-ad8f-6a4d46ce331d",
   "metadata": {},
   "outputs": [
    {
     "name": "stdin",
     "output_type": "stream",
     "text": [
      "Enter the string :- this is asmita das and my name is asmita das\n",
      "Enter the word for check:- asmita \n"
     ]
    },
    {
     "name": "stdout",
     "output_type": "stream",
     "text": [
      "The word occures in the 8 th index\n"
     ]
    }
   ],
   "source": [
    "string=input(\"Enter the string :-\")\n",
    "word=input(\"Enter the word for check:-\")\n",
    "occurr=string.find(word)\n",
    "if occurr ==-1:\n",
    "    print(\"The word does not occures\")\n",
    "else:\n",
    "    print(\"The word occures in the\",occurr,\"th index\")"
   ]
  },
  {
   "cell_type": "markdown",
   "id": "4e2f4e55-b554-493d-b052-5e665e9bf1eb",
   "metadata": {},
   "source": [
    "### <span style =\"color:green;\">13. the last occurrence of a word in a string.<span/>"
   ]
  },
  {
   "cell_type": "code",
   "execution_count": 37,
   "id": "5a4b5f2e-0c4a-49f7-8f75-a61e35a0a892",
   "metadata": {},
   "outputs": [
    {
     "name": "stdin",
     "output_type": "stream",
     "text": [
      "Enter the string :- this is asmita das and my name is asmita das\n",
      "Enter the word for check:- asmita \n"
     ]
    },
    {
     "name": "stdout",
     "output_type": "stream",
     "text": [
      "The word occures in the 34 th index\n"
     ]
    }
   ],
   "source": [
    "string=input(\"Enter the string :-\")\n",
    "word=input(\"Enter the word for check:-\")\n",
    "occurr=string.rfind(word)\n",
    "if occurr ==-1:\n",
    "    print(\"The word does not occures\")\n",
    "else:\n",
    "    print(\"The word occures in the\",occurr,\"th index\")"
   ]
  },
  {
   "cell_type": "markdown",
   "id": "bdea0070-07e4-48a4-847c-6a14e7de62df",
   "metadata": {},
   "source": [
    "### <span style =\"color:green;\"> 14. Split a string into a list of words.<span/>"
   ]
  },
  {
   "cell_type": "code",
   "execution_count": 4,
   "id": "f8ff2d97-8c08-4a48-a008-6950790d97d6",
   "metadata": {},
   "outputs": [
    {
     "name": "stdin",
     "output_type": "stream",
     "text": [
      "Enter the string :- Hello ! this is asmita das\n"
     ]
    },
    {
     "name": "stdout",
     "output_type": "stream",
     "text": [
      "['Hello', '!', 'this', 'is', 'asmita', 'das']\n"
     ]
    }
   ],
   "source": [
    "string=input(\"Enter the string :-\")\n",
    "string_in_list=string.split()\n",
    "print(string_in_list)"
   ]
  },
  {
   "cell_type": "markdown",
   "id": "4442b19e-83fa-42b3-a9c8-0dec64c10f9c",
   "metadata": {},
   "source": [
    "### <span style =\"color:green;\">15. Join a list of words into a string.<span/>"
   ]
  },
  {
   "cell_type": "code",
   "execution_count": 5,
   "id": "0fbc5c6f-4f8f-4d33-a51f-b6d3c6a54207",
   "metadata": {},
   "outputs": [
    {
     "name": "stdout",
     "output_type": "stream",
     "text": [
      "This is the list of words:- ['Hello', '!', 'this', 'is', 'asmita', 'das']\n",
      "Hello ! this is asmita das\n"
     ]
    }
   ],
   "source": [
    "print(\"This is the list of words:-\",string_in_list)\n",
    "string1=\" \"# taking an empty string and giving space in the empty string\n",
    "convert_string= string1.join(string_in_list)# joining the list with the empty string \n",
    "print (convert_string)"
   ]
  },
  {
   "cell_type": "markdown",
   "id": "8f5ae2dd-3ed0-4e09-86d4-ad568ca64d9e",
   "metadata": {},
   "source": [
    "### <span style =\"color:green;\">16. Convert a string where words are separated by spaces to one where words               \n",
    "are separated by underscores <span/>."
   ]
  },
  {
   "cell_type": "code",
   "execution_count": 55,
   "id": "75f3eaff-8b90-42cb-b92e-b837a2c1c664",
   "metadata": {},
   "outputs": [],
   "source": [
    "underscode_string=convert_string.replace(\" \",\"_\")"
   ]
  },
  {
   "cell_type": "code",
   "execution_count": 56,
   "id": "e998e5dc-456f-40d0-ac96-977f270a46a1",
   "metadata": {},
   "outputs": [
    {
     "data": {
      "text/plain": [
       "'Hello_!_this_is_asmita_das'"
      ]
     },
     "execution_count": 56,
     "metadata": {},
     "output_type": "execute_result"
    }
   ],
   "source": [
    "underscode_string"
   ]
  },
  {
   "cell_type": "markdown",
   "id": "cd4b6bde-7562-4b4d-ad99-65ff99e26188",
   "metadata": {},
   "source": [
    "### <span style =\"color:green;\"> 17. Check if a string starts with a specific word or phrase.<span/>"
   ]
  },
  {
   "cell_type": "code",
   "execution_count": 12,
   "id": "ce3ffb2f-e655-48ff-9ebf-aa63361ebe87",
   "metadata": {},
   "outputs": [
    {
     "name": "stdin",
     "output_type": "stream",
     "text": [
      "Enter the string:- this is asmita das\n",
      "Enter the word for check:- this\n"
     ]
    },
    {
     "name": "stdout",
     "output_type": "stream",
     "text": [
      "Yes the word starts with the given word:- this\n"
     ]
    }
   ],
   "source": [
    "s=input(\"Enter the string:-\")\n",
    "check_word=input(\"Enter the word for check:-\")\n",
    "if s.startswith(check_word):\n",
    "    print(\"Yes the word starts with the given word:-\",check_word)\n",
    "else :\n",
    "    print(\"No the word does not starts with the given word:-\",check_word)"
   ]
  },
  {
   "cell_type": "markdown",
   "id": "30937d91-f9af-40d7-af03-fe5adab73807",
   "metadata": {},
   "source": [
    "### <span style =\"color:green;\"> 18. Check if a string ends with a specific word or phrase.<span/>"
   ]
  },
  {
   "cell_type": "code",
   "execution_count": 11,
   "id": "611379d7-3d41-45a9-8522-5ec952b94737",
   "metadata": {},
   "outputs": [
    {
     "name": "stdin",
     "output_type": "stream",
     "text": [
      "Enter the string:- this is asmita das\n",
      "Enter the word for check:- das\n"
     ]
    },
    {
     "name": "stdout",
     "output_type": "stream",
     "text": [
      "Yes the word ends with the given word:- das\n"
     ]
    }
   ],
   "source": [
    "s=input(\"Enter the string:-\")\n",
    "check_word=input(\"Enter the word for check:-\")\n",
    "if s.endswith(check_word):\n",
    "    print(\"Yes the word ends with the given word:-\",check_word)\n",
    "else :\n",
    "    print(\"No the word does not ends with the given word:-\",check_word)"
   ]
  },
  {
   "cell_type": "markdown",
   "id": "636a639a-8d8d-41dc-9aaf-2e98dfac1502",
   "metadata": {},
   "source": [
    "### <span style =\"color:green;\">19. Convert a string to title case (e.g., \"hello world\" to \"Hello World\").<span/>"
   ]
  },
  {
   "cell_type": "code",
   "execution_count": 21,
   "id": "c74128f7-fa2d-4bc8-abe8-30886df6955a",
   "metadata": {},
   "outputs": [
    {
     "name": "stdin",
     "output_type": "stream",
     "text": [
      "Enter the string:- this is asmita das\n"
     ]
    },
    {
     "name": "stdout",
     "output_type": "stream",
     "text": [
      "The string after converting into title case:- This Is Asmita Das\n"
     ]
    }
   ],
   "source": [
    "s=input(\"Enter the string:-\")\n",
    "string_title_case=s.title()\n",
    "print(\"The string after converting into title case:-\",string_title_case)"
   ]
  },
  {
   "cell_type": "markdown",
   "id": "51b05a6c-28b8-4d88-a093-660d451c7669",
   "metadata": {},
   "source": [
    "### <span style =\"color:green;\">20. the longest word in a string.<span/>"
   ]
  },
  {
   "cell_type": "code",
   "execution_count": 54,
   "id": "30044ca5-f644-40e0-80ea-f918271e7109",
   "metadata": {},
   "outputs": [
    {
     "name": "stdout",
     "output_type": "stream",
     "text": [
      "The lenth of each word [4, 2, 6, 3]\n",
      "The lenth of the longest word in the string is  6 and its index is 2\n",
      "The longest word of the string is:- asmita\n"
     ]
    }
   ],
   "source": [
    "s=\"This is asmita das\"\n",
    "find=s.split()\n",
    "lenth=[]\n",
    "for i in find:\n",
    "    lenth.append(len(i))\n",
    "print(\"The lenth of each word\",lenth)\n",
    "print(\"The lenth of the longest word in the string is \",lenth[2],\"and its index is 2\")\n",
    "print(\"The longest word of the string is:-\",find[2])"
   ]
  },
  {
   "cell_type": "markdown",
   "id": "75c1e30e-5895-4c3a-8986-dafc725a8c15",
   "metadata": {},
   "source": [
    "### <span style =\"color:green;\">21. the shortest word in a string.<span/>"
   ]
  },
  {
   "cell_type": "code",
   "execution_count": 55,
   "id": "adafb056-23c8-4adb-83a8-3253c3c21958",
   "metadata": {},
   "outputs": [
    {
     "name": "stdout",
     "output_type": "stream",
     "text": [
      "The lenth of each word [4, 2, 6, 3]\n",
      "The lenth of the shortest word in the string is  2 and its index is 1\n",
      "The shortest word of the string is:- is\n"
     ]
    }
   ],
   "source": [
    "s=\"This is asmita das\"\n",
    "find=s.split()\n",
    "lenth=[]\n",
    "for i in find:\n",
    "    lenth.append(len(i))\n",
    "print(\"The lenth of each word\",lenth)\n",
    "print(\"The lenth of the shortest word in the string is \",lenth[1],\"and its index is 1\")\n",
    "print(\"The shortest word of the string is:-\",find[1])"
   ]
  },
  {
   "cell_type": "markdown",
   "id": "332ee4a3-e95f-4fed-8afa-ecc0b9dc74aa",
   "metadata": {},
   "source": [
    "### <span style =\"color:green;\">22. Reverse the order of words in a string..<span/>"
   ]
  },
  {
   "cell_type": "code",
   "execution_count": 90,
   "id": "dee29b5a-68f2-4212-b988-61f0f815b65d",
   "metadata": {},
   "outputs": [
    {
     "name": "stdout",
     "output_type": "stream",
     "text": [
      "das asmita is this ! hello\n"
     ]
    }
   ],
   "source": [
    "l=[]\n",
    "def reversed_string(s):\n",
    "    list_string=s.split()[::-1]\n",
    "    for i in list_string:\n",
    "        l.append(i)\n",
    "        \n",
    "        \n",
    "reversed_string(\"hello ! this is asmita das\")\n",
    "print(\" \".join(l))"
   ]
  },
  {
   "cell_type": "markdown",
   "id": "39690ada-d01d-4d94-be3c-03ea88662064",
   "metadata": {},
   "source": [
    "### <span style =\"color:green;\">23. Check if a string is alphanumeric.<span/>"
   ]
  },
  {
   "cell_type": "code",
   "execution_count": 98,
   "id": "402b5477-2a58-45ee-bd9c-f5b6f588ad03",
   "metadata": {},
   "outputs": [
    {
     "name": "stdout",
     "output_type": "stream",
     "text": [
      "yes the given string is alphanumeric\n"
     ]
    }
   ],
   "source": [
    "string=\"asmita2711\"\n",
    "if string.isalnum():\n",
    "    print(\"yes the given string is alphanumeric\")\n",
    "else:\n",
    "    print(\"No the given string is not alphanumeric\")"
   ]
  },
  {
   "cell_type": "markdown",
   "id": "9f5f16aa-bc77-421e-bc17-496e9c8d31be",
   "metadata": {},
   "source": [
    "### <span style =\"color:green;\">24. Extract all digits from a string.<span/>"
   ]
  },
  {
   "cell_type": "code",
   "execution_count": 33,
   "id": "49d538ca-7ed1-47a3-a138-d41c21b06ba4",
   "metadata": {},
   "outputs": [
    {
     "name": "stdout",
     "output_type": "stream",
     "text": [
      "['2', '7', '1', '1']\n",
      "Extracted digits from the string:- 2 7 1 1\n"
     ]
    }
   ],
   "source": [
    "\n",
    "digit=[]\n",
    "string=\"asmita2711\"\n",
    "for chr in string:\n",
    "    if chr.isdigit():\n",
    "        digit.append(chr)\n",
    "print(digit)\n",
    "digit_string=(\" \".join(digit))\n",
    "print(\"Extracted digits from the string:-\",digit_string)\n",
    "              \n",
    "    "
   ]
  },
  {
   "cell_type": "markdown",
   "id": "edccf062-85f9-4045-a4bf-469fd88dd785",
   "metadata": {},
   "source": [
    "### <span style =\"color:green;\">25. Extract all alphabets from a string.<span/>"
   ]
  },
  {
   "cell_type": "code",
   "execution_count": 36,
   "id": "8b71f625-9e93-4e7a-b4a1-9431f51817b9",
   "metadata": {},
   "outputs": [
    {
     "name": "stdout",
     "output_type": "stream",
     "text": [
      "['a', 's', 'm', 'i', 't', 'a']\n",
      "Extracted alphabets from the string:- a s m i t a\n"
     ]
    }
   ],
   "source": [
    "alpha=[]\n",
    "string=\"asmita2711\"\n",
    "for chr in string:\n",
    "    if chr.isalpha():\n",
    "        alpha.append(chr)\n",
    "print(alpha)\n",
    "alpha_string=(\" \".join(alpha))\n",
    "print(\"Extracted alphabets from the string:-\",alpha_string)"
   ]
  },
  {
   "cell_type": "markdown",
   "id": "776921b3-64cc-4382-8a45-9557b50dac16",
   "metadata": {},
   "source": [
    "### <span style =\"color:green;\">26. Count the number of uppercase letters in a string.<span/>"
   ]
  },
  {
   "cell_type": "code",
   "execution_count": 40,
   "id": "4b79938b-9103-4413-9286-2a96f7f7939c",
   "metadata": {},
   "outputs": [
    {
     "name": "stdout",
     "output_type": "stream",
     "text": [
      "Number of uppercase letter in the string is:- 2\n"
     ]
    }
   ],
   "source": [
    "count=0\n",
    "string=\"AsmitaDas\"\n",
    "for char in string:\n",
    "    if char.isupper():\n",
    "        count+=1\n",
    "print(\"Number of uppercase letter in the string is:-\",count)"
   ]
  },
  {
   "cell_type": "markdown",
   "id": "ee89fd3b-6dbb-44f9-9d42-ffdcaf8a9e58",
   "metadata": {},
   "source": [
    "### <span style =\"color:green;\">27. Count the number of lowercase letters in a string.<span/>"
   ]
  },
  {
   "cell_type": "code",
   "execution_count": 42,
   "id": "de40253b-ee1b-48b1-8a02-1f5f6583af7e",
   "metadata": {},
   "outputs": [
    {
     "name": "stdout",
     "output_type": "stream",
     "text": [
      "Number of lowercase letter in the string is:- 7\n"
     ]
    }
   ],
   "source": [
    "count=0\n",
    "string=\"Asmita Das\"\n",
    "for char in string:\n",
    "    if char.islower():\n",
    "        count+=1\n",
    "print(\"Number of lowercase letter in the string is:-\",count)"
   ]
  },
  {
   "cell_type": "markdown",
   "id": "d305ad61-0dbb-44dd-932f-dde3ff885354",
   "metadata": {},
   "source": [
    "### <span style =\"color:green;\">28. Swap the case of each character in a string.<span/>"
   ]
  },
  {
   "cell_type": "code",
   "execution_count": 48,
   "id": "9ea291fe-f779-4459-9614-a4ebe909e0df",
   "metadata": {},
   "outputs": [
    {
     "data": {
      "text/plain": [
       "'aSMITA dAS'"
      ]
     },
     "execution_count": 48,
     "metadata": {},
     "output_type": "execute_result"
    }
   ],
   "source": [
    "def swap(s):\n",
    "    swap_char=s.swapcase()\n",
    "    return swap_char\n",
    "swap(\"Asmita Das\")\n",
    "        "
   ]
  },
  {
   "cell_type": "markdown",
   "id": "f92c22ca-f309-4012-b6da-fecdd3dce65c",
   "metadata": {},
   "source": [
    "### <span style =\"color:green;\">29. Remove a specific word from a string.<span/>"
   ]
  },
  {
   "cell_type": "code",
   "execution_count": 58,
   "id": "ef6189b1-cb90-4c27-94c8-ac426d69438c",
   "metadata": {},
   "outputs": [
    {
     "name": "stdin",
     "output_type": "stream",
     "text": [
      "Enter the string: hello this is asmita das\n",
      "write the soecific word for remove: asmita\n"
     ]
    },
    {
     "name": "stdout",
     "output_type": "stream",
     "text": [
      "hello this is  das\n"
     ]
    }
   ],
   "source": [
    "string=input(\"Enter the string:\")\n",
    "specific_word=input(\"write the soecific word for remove:\")\n",
    "string2=string.replace(specific_word,\"\")\n",
    "print(string2)"
   ]
  },
  {
   "cell_type": "markdown",
   "id": "f329ec56-3b5b-4b65-a54b-73b8c77fafad",
   "metadata": {},
   "source": [
    "### <span style =\"color:green;\">30. Check if a string is a valid email address.<span/>"
   ]
  },
  {
   "cell_type": "code",
   "execution_count": 21,
   "id": "00fd4527-fa6f-427b-8c1e-dbaebb8c55c0",
   "metadata": {},
   "outputs": [
    {
     "name": "stdin",
     "output_type": "stream",
     "text": [
      "Enter the email address: das18asmita@gmail.com\n"
     ]
    },
    {
     "name": "stdout",
     "output_type": "stream",
     "text": [
      "You have entered valid email\n"
     ]
    }
   ],
   "source": [
    "from email_validator import validate_email,EmailNotValidError\n",
    "input_email=input(\"Enter the email address:\")\n",
    "try:\n",
    "    email=validate_email(input_email).email\n",
    "    print(\"You have entered valid email\")\n",
    "except EmailNotValidError as errorMsg:\n",
    "    print (\"You have entered invalid email.\",str(errorMsg))"
   ]
  },
  {
   "cell_type": "markdown",
   "id": "8ee47811-fa9a-4ee7-bc6b-94b8f7061ef9",
   "metadata": {},
   "source": [
    "### <span style =\"color:green;\">31. Extract the username from an email address string.<span/>"
   ]
  },
  {
   "cell_type": "code",
   "execution_count": 30,
   "id": "226a2e6e-686b-4351-95d2-050a9ffe2fe2",
   "metadata": {},
   "outputs": [
    {
     "name": "stdout",
     "output_type": "stream",
     "text": [
      "das18asmita\n"
     ]
    }
   ],
   "source": [
    "def test(email_address):\n",
    "\tr = email_address.index(\"@\")\n",
    "\treturn \"\".join(l for l in email_address[:r] if l.isalnum())\n",
    "email= test('das18asmita@gmail.com')\n",
    "print(email)"
   ]
  },
  {
   "cell_type": "markdown",
   "id": "3c734883-382f-4ac2-bfcb-091f65cd0234",
   "metadata": {},
   "source": [
    "### <span style =\"color:green;\">32. Extract the domain name from an email address string.<span/>"
   ]
  },
  {
   "cell_type": "code",
   "execution_count": 31,
   "id": "67cdd960-3c7d-4685-a8c9-f51810bc3e9c",
   "metadata": {},
   "outputs": [
    {
     "name": "stdout",
     "output_type": "stream",
     "text": [
      "gmail.com\n"
     ]
    }
   ],
   "source": [
    "def test(email_address):\n",
    "\tr = email_address.index(\"@\")+1\n",
    "\treturn \"\".join(l for l in email_address[r:] )\n",
    "domain=test('das18asmita@gmail.com')\n",
    "print(domain)"
   ]
  },
  {
   "cell_type": "markdown",
   "id": "529181db-96ff-4d33-a7ae-c2a1cc7545f2",
   "metadata": {},
   "source": [
    "### <span style =\"color:green;\">33. Replace multiple spaces in a string with a single space.<span/>"
   ]
  },
  {
   "cell_type": "markdown",
   "id": "52b635a4-c055-433c-a47c-35bb400bd030",
   "metadata": {},
   "source": [
    "input_string=input(\"Enter the string: \")\n",
    "single_spaced_string = \" \".join(input_string.split())\n",
    "print(single_spaced_string)"
   ]
  },
  {
   "cell_type": "markdown",
   "id": "9b11f1ef-9b02-4db4-bba4-6ccef5078671",
   "metadata": {},
   "source": [
    "### <span style =\"color:green;\">34. Check if a string is a valid URL.<span/>\n",
    "\n"
   ]
  },
  {
   "cell_type": "code",
   "execution_count": 69,
   "id": "c6a3215e-9e57-470f-8d18-7e94d4f82905",
   "metadata": {},
   "outputs": [
    {
     "name": "stdin",
     "output_type": "stream",
     "text": [
      "Enter the url :  https://www.amazon.com/\n"
     ]
    },
    {
     "data": {
      "text/plain": [
       "True"
      ]
     },
     "execution_count": 69,
     "metadata": {},
     "output_type": "execute_result"
    }
   ],
   "source": [
    "from urllib.parse import urlparse\n",
    "def url(urls):\n",
    "    parsed = urlparse(urls)\n",
    "    if parsed.scheme and parsed.netloc:\n",
    "        return True\n",
    "    else :\n",
    "        return False\n",
    "check_url=input(\"Enter the url : \")\n",
    "url(check_url)"
   ]
  },
  {
   "cell_type": "markdown",
   "id": "a91380c9-e3dd-49a3-b9b6-417b9b3c9dd1",
   "metadata": {},
   "source": [
    "### <span style =\"color:green;\">35. Extract the protocol (http or https) from a URL string.<span/>"
   ]
  },
  {
   "cell_type": "code",
   "execution_count": 79,
   "id": "e39e77b7-cb71-4781-8bd2-12b5859b1305",
   "metadata": {},
   "outputs": [
    {
     "name": "stdin",
     "output_type": "stream",
     "text": [
      "Enter the url :  https://www.amazon.com/\n"
     ]
    },
    {
     "name": "stdout",
     "output_type": "stream",
     "text": [
      "Protocol : https\n"
     ]
    }
   ],
   "source": [
    "from urllib.parse import urlparse\n",
    "def url(urls):\n",
    "    parsed = urlparse(urls)\n",
    "    if parsed.scheme and parsed.netloc:\n",
    "        protocol = urls.find(\"://\")\n",
    "        return \"\".join(l for l in urls[:protocol] )\n",
    "check_url=input(\"Enter the url : \")\n",
    "print(\"Protocol :\",url(check_url))"
   ]
  },
  {
   "cell_type": "markdown",
   "id": "e96a974e-1d37-4d06-aa56-77633d0ca3cc",
   "metadata": {},
   "source": [
    "### <span style =\"color:green;\">36. the frequency of each character in a string.<span/>"
   ]
  },
  {
   "cell_type": "code",
   "execution_count": 111,
   "id": "308a3fec-762a-42bf-a09e-487fef313618",
   "metadata": {},
   "outputs": [
    {
     "name": "stdin",
     "output_type": "stream",
     "text": [
      "The string is : asmita das\n"
     ]
    },
    {
     "name": "stdout",
     "output_type": "stream",
     "text": [
      "count of all the characters in the string {'a': 3, 's': 2, 'm': 1, 'i': 1, 't': 1, ' ': 1, 'd': 1}\n"
     ]
    }
   ],
   "source": [
    "input_string=input(\"The string is :\")\n",
    "frequency={}\n",
    "for i in input_string:\n",
    "    if i in frequency:\n",
    "        frequency[i]+=1\n",
    "    else:\n",
    "        frequency[i] = 1\n",
    "print(\"count of all the characters in the string\",frequency)"
   ]
  },
  {
   "cell_type": "markdown",
   "id": "92a00f07-c762-4ece-8f5f-76d371193dfd",
   "metadata": {},
   "source": [
    "### <span style =\"color:green;\">37. Remove all punctuation from a string.<span/>"
   ]
  },
  {
   "cell_type": "code",
   "execution_count": 118,
   "id": "0141eb03-9239-44c0-9a25-2044ab204bdc",
   "metadata": {},
   "outputs": [
    {
     "name": "stdin",
     "output_type": "stream",
     "text": [
      "The original string is:  \"The quick brown fox jumped over the lazy dog. #Nonsense!!!\"\n"
     ]
    },
    {
     "name": "stdout",
     "output_type": "stream",
     "text": [
      "The string after removing punctuation : The quick brown fox jumped over the lazy dog Nonsense\n"
     ]
    }
   ],
   "source": [
    "import string \n",
    "original_string=input(\"The original string is: \")\n",
    "for punctuation in string.punctuation:\n",
    "    original_string=original_string.replace(punctuation,\"\")\n",
    "print(\"The string after removing punctuation :\",original_string)"
   ]
  },
  {
   "cell_type": "markdown",
   "id": "3ec530f7-6dd0-486b-a552-cabc3929a62b",
   "metadata": {},
   "source": [
    "### <span style =\"color:green;\">38. Check if a string contains only digits.<span/>"
   ]
  },
  {
   "cell_type": "code",
   "execution_count": 125,
   "id": "f130ec5a-5752-4572-be59-462887a8ff60",
   "metadata": {},
   "outputs": [
    {
     "name": "stdout",
     "output_type": "stream",
     "text": [
      "'2023' contains only digits: True\n",
      "'its2023' contains only digits: False\n"
     ]
    }
   ],
   "source": [
    "def input_string(digit_string):\n",
    "    if digit_string.isdigit():\n",
    "        return True\n",
    "    else :\n",
    "        return False\n",
    "digit_string1=\"2023\"\n",
    "digit_string2=\"its2023\"\n",
    "result1=input_string(digit_string1)\n",
    "result2=input_string(digit_string2)\n",
    "print(f\"'{digit_string1}' contains only digits:\", result1)\n",
    "print(f\"'{digit_string2}' contains only digits:\", result2)"
   ]
  },
  {
   "cell_type": "markdown",
   "id": "8a985ed1-61e8-4eb7-9937-07a0fd4b2241",
   "metadata": {},
   "source": [
    "### <span style =\"color:green;\">39. Check if a string contains only alphabets.<span/>"
   ]
  },
  {
   "cell_type": "code",
   "execution_count": 141,
   "id": "f26b6301-bae7-4fb3-803b-6b2347cea718",
   "metadata": {},
   "outputs": [
    {
     "name": "stdout",
     "output_type": "stream",
     "text": [
      "'asmita' contains only letters: True\n",
      "'its2023' contains only letters: False\n"
     ]
    }
   ],
   "source": [
    "def input_string(string):\n",
    "    if string.isalpha():\n",
    "        return True\n",
    "    else :\n",
    "        return False\n",
    "string1=\"asmita\"\n",
    "string2=\"its2023\"\n",
    "result1=input_string(string1)\n",
    "result2=input_string(string2)\n",
    "print(f\"'{string1}' contains only letters:\", result1)\n",
    "print(f\"'{string2}' contains only letters:\", result2)\n"
   ]
  },
  {
   "cell_type": "markdown",
   "id": "5c6f1c80-c8d0-42d6-a99c-3778f5d6360b",
   "metadata": {},
   "source": [
    "### <span style =\"color:green;\">40. Convert a string to a list of characters.<span/>"
   ]
  },
  {
   "cell_type": "code",
   "execution_count": 160,
   "id": "3f954250-eb89-4f35-817d-d58ca7c444d5",
   "metadata": {},
   "outputs": [
    {
     "name": "stdout",
     "output_type": "stream",
     "text": [
      "The given string is:  asmita\n",
      "The string after converting into list:  ['a', 's', 'm', 'i', 't', 'a']\n"
     ]
    }
   ],
   "source": [
    "def input_string(string):\n",
    "    char_list= list(string)\n",
    "    return char_list\n",
    "given_string=\"asmita\"\n",
    "char_list=input_string(given_string)\n",
    "print(\"The given string is: \",given_string)\n",
    "print(\"The string after converting into list: \",char_list)"
   ]
  },
  {
   "cell_type": "markdown",
   "id": "70c63b57-036d-4d26-8769-b05cdb53f3ef",
   "metadata": {},
   "source": [
    "### <span style =\"color:green;\">41. Check if two strings are anagrams.<span/>"
   ]
  },
  {
   "cell_type": "code",
   "execution_count": 165,
   "id": "6563688f-64a8-467b-8c44-ac055033ada5",
   "metadata": {},
   "outputs": [
    {
     "name": "stdin",
     "output_type": "stream",
     "text": [
      "The first string is :  Cinema\n",
      "The second string is :  ice man\n"
     ]
    },
    {
     "name": "stdout",
     "output_type": "stream",
     "text": [
      "Yes the strings are anagram\n"
     ]
    }
   ],
   "source": [
    "def anagram(x,y):\n",
    "    x=x.replace(\" \",\"\").lower()\n",
    "    y=y.replace(\" \",\"\").lower()\n",
    "    if sorted(x) == sorted(y) :\n",
    "        print(\"Yes the strings are anagram\")\n",
    "    else:\n",
    "        print(\"No, the strings are not anagrams\")\n",
    "s1= input(\"The first string is : \")\n",
    "s2=input(\"The second string is : \") \n",
    "anagram(s1,s2)"
   ]
  },
  {
   "cell_type": "markdown",
   "id": "73d4ca89-a8c1-497b-af76-534e396eeba2",
   "metadata": {},
   "source": [
    "### <span style =\"color:green;\">42. Encode a string using a Caesar cipher.<span/>"
   ]
  },
  {
   "cell_type": "code",
   "execution_count": 172,
   "id": "5c1afc43-8d59-455e-a61b-8238f4926cc1",
   "metadata": {},
   "outputs": [
    {
     "name": "stdout",
     "output_type": "stream",
     "text": [
      "Original:  Hello, world!\n",
      "Encrypted:  Khoor, zruog!\n"
     ]
    }
   ],
   "source": [
    "def caesar_cipher(text, shift):\n",
    "    encrypted_text = \"\"\n",
    "\n",
    "    for char in text:\n",
    "        if char.isalpha():\n",
    "            is_upper = char.isupper()\n",
    "            char = char.lower()\n",
    "            shifted = (ord(char) - ord('a') + shift) % 26\n",
    "            char = chr(shifted + ord('a'))\n",
    "            if is_upper:\n",
    "                char = char.upper()\n",
    "        encrypted_text += char\n",
    "\n",
    "    return encrypted_text\n",
    "plaintext = \"Hello, world!\"\n",
    "shift_amount = 3  \n",
    "\n",
    "encrypted_text = caesar_cipher(plaintext, shift_amount)\n",
    "print(\"Original: \" , plaintext)\n",
    "print(\"Encrypted: \" , encrypted_text)\n"
   ]
  },
  {
   "cell_type": "markdown",
   "id": "a42d0564-71dd-4fe5-9506-9c2751127559",
   "metadata": {},
   "source": [
    "### <span style =\"color:green;\">43. Decode a Caesar cipher encoded string.<span/>"
   ]
  },
  {
   "cell_type": "code",
   "execution_count": 173,
   "id": "7dba5794-af68-4946-aced-f3a4d3ae0d35",
   "metadata": {},
   "outputs": [
    {
     "name": "stdout",
     "output_type": "stream",
     "text": [
      "Encoded: Khoor, zruog!\n",
      "Decoded: Hello, world!\n"
     ]
    }
   ],
   "source": [
    "def caesar_decipher(text, shift):\n",
    "    decrypted_text = \"\"\n",
    "\n",
    "    for char in text:\n",
    "        if char.isalpha():\n",
    "            is_upper = char.isupper()\n",
    "            char = char.lower()\n",
    "            shifted = (ord(char) - ord('a') - shift) % 26\n",
    "            char = chr(shifted + ord('a'))\n",
    "            if is_upper:\n",
    "                char = char.upper()\n",
    "        decrypted_text += char\n",
    "\n",
    "    return decrypted_text\n",
    "\n",
    "\n",
    "encoded_text = \"Khoor, zruog!\"\n",
    "shift_amount = 3  \n",
    "\n",
    "decoded_text = caesar_decipher(encoded_text, shift_amount)\n",
    "print(\"Encoded: \" + encoded_text)\n",
    "print(\"Decoded: \" + decoded_text)\n"
   ]
  },
  {
   "cell_type": "markdown",
   "id": "f0a8163e-b4fc-4281-9f39-d17666b0ed92",
   "metadata": {},
   "source": [
    "### <span style =\"color:green;\">44. the most frequent word in a string.<span/>"
   ]
  },
  {
   "cell_type": "code",
   "execution_count": 2,
   "id": "e1066cc8-9c89-4961-979a-0db049d9a0b2",
   "metadata": {},
   "outputs": [
    {
     "name": "stdout",
     "output_type": "stream",
     "text": [
      "The list is :\n",
      "['this is asmita das', ' its asmita', 'my name is asmita das']\n",
      "The word that has the maximum frequency : asmita\n"
     ]
    }
   ],
   "source": [
    "from collections import defaultdict\n",
    "my_list = [\"this is asmita das\", \" its asmita\", \"my name is asmita das\"]\n",
    "\n",
    "print(f\"The list is :\\n{my_list}\")\n",
    "\n",
    "my_temp = defaultdict(int)\n",
    "\n",
    "for sub in my_list:\n",
    "   for word in sub.split():\n",
    "      my_temp[word] += 1\n",
    "\n",
    "result = max(my_temp, key=my_temp.get)\n",
    "\n",
    "print(\"The word that has the maximum frequency :\",result)"
   ]
  },
  {
   "cell_type": "markdown",
   "id": "8b579265-bb1d-41b6-8b69-620238e2da99",
   "metadata": {},
   "source": [
    "### <span style =\"color:green;\">45. all unique words in a string.<span/>"
   ]
  },
  {
   "cell_type": "code",
   "execution_count": 12,
   "id": "af3edeae-c879-4627-9ee0-bec0d397f02e",
   "metadata": {},
   "outputs": [
    {
     "name": "stdout",
     "output_type": "stream",
     "text": [
      "world\n",
      "this\n",
      "is\n",
      "asmita\n",
      "all\n",
      "\n"
     ]
    }
   ],
   "source": [
    "import re\n",
    "dict = {} \n",
    " \n",
    "def uniqueWord(Word): \n",
    " \n",
    "    if Word in dict: \n",
    "        dict[words] += 1\n",
    "    else:\n",
    "        dict.update({words: 1}) \n",
    " \n",
    "if __name__ == '__main__': \n",
    "     \n",
    "    string = \"hello world,hello this is asmita,hello all.\"\n",
    "    ListOfWords = re.split(\"[\\W]+\", string)\n",
    "    for words in ListOfWords: \n",
    "        uniqueWord(words) \n",
    "    for elements in dict: \n",
    "        if dict[elements] == 1: \n",
    "            print(elements) "
   ]
  },
  {
   "cell_type": "markdown",
   "id": "6cfd340d-b452-4b99-9e17-49d35d2cd731",
   "metadata": {},
   "source": [
    "### <span style =\"color:green;\">46. Count the number of syllables in a string.<span/>"
   ]
  },
  {
   "cell_type": "code",
   "execution_count": 16,
   "id": "1c267b73-1d5c-4e9d-8970-7eef3269c30f",
   "metadata": {},
   "outputs": [
    {
     "name": "stdout",
     "output_type": "stream",
     "text": [
      "'hello' has 2 syllables.\n",
      "'asmita' has 3 syllables.\n"
     ]
    }
   ],
   "source": [
    "import re\n",
    "\n",
    "def count_syllables(word):\n",
    "    return len(\n",
    "        re.findall('(?!e$)[aeiouy]+', word, re.I) +\n",
    "        re.findall('^[^aeiouy]*e$', word, re.I))\n",
    "word1=\"hello\"\n",
    "word2=\"asmita\"\n",
    "syllables1=count_syllables(word1)\n",
    "syllables2=count_syllables(word2)\n",
    "print(f\"'{word1}' has {syllables1} syllables.\")\n",
    "print(f\"'{word2}' has {syllables2} syllables.\")"
   ]
  },
  {
   "cell_type": "markdown",
   "id": "8786dfc9-46d3-49ea-b3dc-ce9d926a3973",
   "metadata": {},
   "source": [
    "### <span style =\"color:green;\">47. Check if a string contains any special characters.<span/>"
   ]
  },
  {
   "cell_type": "code",
   "execution_count": 24,
   "id": "6816516e-f758-46a2-9fc4-cdb49c2d8f29",
   "metadata": {},
   "outputs": [
    {
     "name": "stdin",
     "output_type": "stream",
     "text": [
      " hello @good#morning\n"
     ]
    },
    {
     "name": "stdout",
     "output_type": "stream",
     "text": [
      "The string contains special characters\n"
     ]
    }
   ],
   "source": [
    "def special_char(string):\n",
    "    for char in string:\n",
    "        if not (char.isalpha() or char.isdigit() or char == ' '):\n",
    "            return True\n",
    "    return False\n",
    "string=input()\n",
    "if special_char(string):\n",
    "    print(\"The string contains special characters\")\n",
    "else :\n",
    "    print(\"The string does not contains any special characters.\")"
   ]
  },
  {
   "cell_type": "markdown",
   "id": "076f3f17-b3fc-4fae-9005-ebec4879c039",
   "metadata": {},
   "source": [
    "### <span style =\"color:green;\">48. Remove the nth word from a string.<span/>"
   ]
  },
  {
   "cell_type": "code",
   "execution_count": 28,
   "id": "0c2656c6-54af-4918-8240-2b095f9029fd",
   "metadata": {},
   "outputs": [
    {
     "name": "stdout",
     "output_type": "stream",
     "text": [
      "The input string: This is a sample sentence to test the removal of words.\n",
      "The string after removing the nth word : This is a sentence to test the removal of words.\n"
     ]
    }
   ],
   "source": [
    "def remove_nth_word(input_string, n):\n",
    "    words = input_string.split()\n",
    "    if 0 <= n < len(words):\n",
    "        del words[n]\n",
    "        result_string = \" \".join(words)\n",
    "\n",
    "        return result_string\n",
    "    else:\n",
    "        return input_string\n",
    "input_string = \"This is a sample sentence to test the removal of words.\"\n",
    "n = 3  \n",
    "result_string = remove_nth_word(input_string, n)\n",
    "print(\"The input string:\",input_string)\n",
    "print(\"The string after removing the nth word :\",result_string)\n"
   ]
  },
  {
   "cell_type": "markdown",
   "id": "2234ad58-9918-4722-acc0-ef4fce63ee95",
   "metadata": {},
   "source": [
    "### <span style =\"color:green;\">49. Insert a word at the nth position in a string.<span/>"
   ]
  },
  {
   "cell_type": "code",
   "execution_count": 32,
   "id": "e750ca02-fdf5-4963-ac2a-192575674582",
   "metadata": {},
   "outputs": [
    {
     "name": "stdout",
     "output_type": "stream",
     "text": [
      "Old sentence: This is a sample sentence to test \n",
      "New sentence after insertion:  This is a new sample sentence to test\n"
     ]
    }
   ],
   "source": [
    "def insert_word_at_nth_position(input_string, n, word_to_insert):\n",
    "    words = input_string.split()\n",
    "    if 0 <= n <= len(words):\n",
    "        words.insert(n, word_to_insert)\n",
    "        result_string = \" \".join(words)\n",
    "\n",
    "        return result_string\n",
    "    else:\n",
    "        return input_string\n",
    "\n",
    "input_string = \"This is a sample sentence to test \"\n",
    "n = 3  \n",
    "word_to_insert = \"new\"  \n",
    "result_string = insert_word_at_nth_position(input_string, n, word_to_insert)\n",
    "print(\"Old sentence:\",input_string)\n",
    "\n",
    "print(\"New sentence after insertion: \",result_string)\n"
   ]
  },
  {
   "cell_type": "markdown",
   "id": "2aa1b897-1325-4997-87b0-cf61076cdc61",
   "metadata": {},
   "source": [
    "### <span style =\"color:green;\">50. Convert a CSV string to a list of lists.<span/>"
   ]
  },
  {
   "cell_type": "code",
   "execution_count": 34,
   "id": "eb72a7ce-48ee-40fc-9e31-8e52cc313ca7",
   "metadata": {},
   "outputs": [
    {
     "name": "stdout",
     "output_type": "stream",
     "text": [
      "['Name', 'Age', 'Location']\n",
      "['Alice', '30', 'New York']\n",
      "['Bob', '25', 'Los Angeles']\n",
      "['Charlie', '35', 'Chicago']\n"
     ]
    }
   ],
   "source": [
    "import csv\n",
    "import io\n",
    "\n",
    "csv_string = \"\"\"Name,Age,Location\n",
    "Alice,30,New York\n",
    "Bob,25,Los Angeles\n",
    "Charlie,35,Chicago\n",
    "\"\"\"\n",
    "\n",
    "csv_reader = csv.reader(io.StringIO(csv_string))\n",
    "\n",
    "csv_list = [row for row in csv_reader]\n",
    "\n",
    "for row in csv_list:\n",
    "    print(row)\n"
   ]
  },
  {
   "cell_type": "markdown",
   "id": "d1b46576-d407-4bad-b0c6-66c79a63bdea",
   "metadata": {},
   "source": [
    "# <span style=\"color: blue;\">TOPIC: List Based Practice Problem :</span>"
   ]
  },
  {
   "cell_type": "markdown",
   "id": "712d7a1a-03bb-4a8f-b46b-c186714ab4d4",
   "metadata": {},
   "source": [
    "### <span style =\"color:green;\"> 1. Create a list with integers from 1 to 10.<span/>"
   ]
  },
  {
   "cell_type": "code",
   "execution_count": 54,
   "id": "b97b3966-23b5-47df-9781-ca294c98ba96",
   "metadata": {},
   "outputs": [
    {
     "data": {
      "text/plain": [
       "[1, 2, 3, 4, 5, 6, 7, 8, 9, 10]"
      ]
     },
     "execution_count": 54,
     "metadata": {},
     "output_type": "execute_result"
    }
   ],
   "source": [
    "a=list(range(1,11))\n",
    "[i for i in a]"
   ]
  },
  {
   "cell_type": "markdown",
   "id": "bea8cb47-db05-4c69-9a0e-28a8466fbcb3",
   "metadata": {},
   "source": [
    "### <span style =\"color:green;\">2. the length of a list without using the `len()` function.<span/>"
   ]
  },
  {
   "cell_type": "code",
   "execution_count": 57,
   "id": "e4c06ac1-4dab-4ba0-a91e-8d5f6913ef41",
   "metadata": {},
   "outputs": [
    {
     "name": "stdout",
     "output_type": "stream",
     "text": [
      "Lenth of the list is :  8\n"
     ]
    }
   ],
   "source": [
    "def input_list(l):\n",
    "    count=0\n",
    "    for i in l:\n",
    "        count+=1\n",
    "    return count\n",
    "l=[2,4,6,8,10,1,2,14]\n",
    "lenth=input_list(l)\n",
    "print(\"Lenth of the list is : \", lenth)\n",
    "        "
   ]
  },
  {
   "cell_type": "markdown",
   "id": "26c76a3b-877f-4c7d-bff9-58a2aeceb2c4",
   "metadata": {},
   "source": [
    "### <span style =\"color:green;\">3. Append an element to the end of a list.<span/>"
   ]
  },
  {
   "cell_type": "code",
   "execution_count": 70,
   "id": "53c71137-c729-4211-9c6d-1187e4de8260",
   "metadata": {},
   "outputs": [
    {
     "name": "stdout",
     "output_type": "stream",
     "text": [
      "[2, 4, 6, 8]\n",
      "The list after appending new element:  [2, 4, 6, 8, 10]\n"
     ]
    }
   ],
   "source": [
    "my_list=[2,4,6,8]\n",
    "print(my_list)\n",
    "append_element=10\n",
    "my_list.append(append_element)\n",
    "print(\"The list after appending new element: \",my_list)"
   ]
  },
  {
   "cell_type": "markdown",
   "id": "1bb57c60-5e03-4130-a8f3-6386fc4853d9",
   "metadata": {},
   "source": [
    "### <span style =\"color:green;\"> 4. Insert an element at a specific index in a list.<span/>"
   ]
  },
  {
   "cell_type": "code",
   "execution_count": 71,
   "id": "30b1da4c-7b48-457c-9739-0af5104895e1",
   "metadata": {},
   "outputs": [
    {
     "name": "stdout",
     "output_type": "stream",
     "text": [
      "Old list [2, 4, 6, 8, 10]\n",
      "Updated list:  [2, 4, 5, 6, 8, 10]\n"
     ]
    }
   ],
   "source": [
    "print(\"Old list\",my_list)\n",
    "my_list.insert(2,5)\n",
    "print(\"Updated list: \",my_list)"
   ]
  },
  {
   "cell_type": "markdown",
   "id": "2de57d74-a1cc-47bb-8434-ebde3684b7a1",
   "metadata": {},
   "source": [
    "### <span style =\"color:green;\"> 5. Remove an element from a list by its value.<span/>"
   ]
  },
  {
   "cell_type": "code",
   "execution_count": 72,
   "id": "e051e98b-3161-4878-921e-c90e2906d613",
   "metadata": {},
   "outputs": [
    {
     "name": "stdout",
     "output_type": "stream",
     "text": [
      "Old list: [10, 20, 30, 40, 50, 60, 70]\n",
      "Updated list: [10, 20, 30, 50, 60, 70]\n"
     ]
    }
   ],
   "source": [
    "my_list=[10,20,30,40,50,60,70]\n",
    "print(\"Old list:\",my_list)\n",
    "my_list.remove(40)\n",
    "print(\"Updated list:\",my_list)"
   ]
  },
  {
   "cell_type": "markdown",
   "id": "6325ee5e-0e49-4291-bb31-5c167b728afb",
   "metadata": {},
   "source": [
    "### <span style =\"color:green;\"> 6. Remove an element from a list by its index.<span/>"
   ]
  },
  {
   "cell_type": "code",
   "execution_count": 76,
   "id": "20460819-0a05-421e-b7e6-597870c52a97",
   "metadata": {},
   "outputs": [
    {
     "name": "stdout",
     "output_type": "stream",
     "text": [
      "Old list: [10, 20, 30, 40, 50, 60, 70]\n",
      "Removed element : 40\n",
      "Updated list: [10, 20, 30, 50, 60, 70]\n"
     ]
    }
   ],
   "source": [
    "my_list=[10,20,30,40,50,60,70]\n",
    "print(\"Old list:\",my_list)\n",
    "print(\"Removed element :\",my_list[3])\n",
    "my_list.pop(3)\n",
    "print(\"Updated list:\",my_list)\n"
   ]
  },
  {
   "cell_type": "markdown",
   "id": "9b3151d7-6761-48dc-a029-e7db76eb3345",
   "metadata": {},
   "source": [
    "### <span style =\"color:green;\"> 7. Check if an element exists in a list.<span/>"
   ]
  },
  {
   "cell_type": "code",
   "execution_count": 84,
   "id": "eb703f23-82aa-4229-8340-96caa0e4425c",
   "metadata": {},
   "outputs": [
    {
     "name": "stdout",
     "output_type": "stream",
     "text": [
      "[10, 20, 30, 40, 50, 60, 70]\n",
      "Element to check : 40\n",
      "Yes the element exists in the list.\n"
     ]
    }
   ],
   "source": [
    "my_list=[10,20,30,40,50,60,70]\n",
    "check_element=40\n",
    "print(my_list)\n",
    "print(\"Element to check :\",check_element)\n",
    "\n",
    "if check_element in my_list :\n",
    "    print(\"Yes the element exists in the list.\")\n",
    "else :\n",
    "    print(\"No the element does not exists in the list.\")\n",
    "        "
   ]
  },
  {
   "cell_type": "markdown",
   "id": "48b15e28-1f6b-43dc-a7cb-5d0aba94da20",
   "metadata": {},
   "source": [
    "### <span style =\"color:green;\"> 8. the index of the first occurrence of an element in a list.<span/>"
   ]
  },
  {
   "cell_type": "code",
   "execution_count": 89,
   "id": "e87174b9-cdab-4551-ab2a-14c28c2f7a0c",
   "metadata": {},
   "outputs": [
    {
     "name": "stdout",
     "output_type": "stream",
     "text": [
      "The index of 30 in the list is  2\n"
     ]
    }
   ],
   "source": [
    "my_list=[10,20,30,10,40,50,30,60,70]\n",
    "print(\"The index of 30 in the list is \",my_list.index(30))"
   ]
  },
  {
   "cell_type": "markdown",
   "id": "79608f31-4e91-4b38-9071-f1102f87773d",
   "metadata": {},
   "source": [
    "### <span style =\"color:green;\"> 9. Count the occurrences of an element in a list.<span/>"
   ]
  },
  {
   "cell_type": "code",
   "execution_count": 95,
   "id": "766a9d11-ca3e-4f7c-8af0-aa1b57665af4",
   "metadata": {},
   "outputs": [
    {
     "name": "stdout",
     "output_type": "stream",
     "text": [
      "Given list: [10, 20, 30, 10, 40, 50, 30, 60, 70]\n",
      " 10 occurs 2 times in the list\n"
     ]
    }
   ],
   "source": [
    "my_list=[10,20,30,10,40,50,30,60,70]\n",
    "element=10\n",
    "count=my_list.count(element)\n",
    "print(\"Given list:\",my_list)\n",
    "print(f\" {element} occurs {count} times in the list\")"
   ]
  },
  {
   "cell_type": "markdown",
   "id": "f1a1e049-eeae-4e2f-9d58-9c18b4531ea5",
   "metadata": {},
   "source": [
    "### <span style =\"color:green;\"> 10. Reverse the order of elements in a list.<span/>"
   ]
  },
  {
   "cell_type": "code",
   "execution_count": 100,
   "id": "0833068b-549f-4703-8640-ba66d5ffa74b",
   "metadata": {},
   "outputs": [
    {
     "name": "stdout",
     "output_type": "stream",
     "text": [
      "Given list: [2, 4, 6, 8, 10]\n",
      "Reversed list: [10, 8, 6, 4, 2]\n"
     ]
    }
   ],
   "source": [
    "my_list = [2,4,6,8,10]\n",
    "print(\"Given list:\",my_list)\n",
    "my_list.reverse()\n",
    "print(\"Reversed list:\",my_list)"
   ]
  },
  {
   "cell_type": "markdown",
   "id": "dafe21f3-7671-4233-9f9d-7f8ac80fa190",
   "metadata": {},
   "source": [
    "### <span style =\"color:green;\"> 11. Sort a list in ascending order.<span/>"
   ]
  },
  {
   "cell_type": "code",
   "execution_count": 101,
   "id": "31ebe8b6-0b95-4015-a31c-ce75f4454d97",
   "metadata": {},
   "outputs": [
    {
     "name": "stdout",
     "output_type": "stream",
     "text": [
      "Given list: [2, 5, 3, 4, 20, 82, 54, 96, 75, 12, 4, 52, 10, 77]\n",
      "Sorted list : [2, 3, 4, 4, 5, 10, 12, 20, 52, 54, 75, 77, 82, 96]\n"
     ]
    }
   ],
   "source": [
    "my_list=[2,5,3,4,20,82,54,96,75,12,4,52,10,77]\n",
    "print(\"Given list:\",my_list)\n",
    "my_list.sort()\n",
    "print(\"Sorted list in ascending  :\",my_list)"
   ]
  },
  {
   "cell_type": "markdown",
   "id": "f8aee2d1-d027-4511-9dac-d5dd15893e6c",
   "metadata": {},
   "source": [
    "### <span style =\"color:green;\"> 12. Sort a list in descending order.<span/>"
   ]
  },
  {
   "cell_type": "code",
   "execution_count": 103,
   "id": "6ae316dc-fcee-42ea-a4d9-32ff44f117c9",
   "metadata": {},
   "outputs": [
    {
     "name": "stdout",
     "output_type": "stream",
     "text": [
      "Given list: [2, 5, 3, 4, 20, 82, 54, 96, 75, 12, 4, 52, 10, 77]\n",
      "Sorted list in descending : [96, 82, 77, 75, 54, 52, 20, 12, 10, 5, 4, 4, 3, 2]\n"
     ]
    }
   ],
   "source": [
    "my_list=[2,5,3,4,20,82,54,96,75,12,4,52,10,77]\n",
    "print(\"Given list:\",my_list)\n",
    "my_list.sort(reverse=True)\n",
    "print(\"Sorted list in descending :\",my_list)"
   ]
  },
  {
   "cell_type": "markdown",
   "id": "14d9e40a-7932-4a91-986a-ce185d6b438b",
   "metadata": {},
   "source": [
    "### <span style =\"color:green;\"> 13. Create a list of even numbers from 1 to 20.<span/>"
   ]
  },
  {
   "cell_type": "code",
   "execution_count": 110,
   "id": "2252d4ab-52ac-472d-9b0b-89dd2384aa20",
   "metadata": {},
   "outputs": [
    {
     "name": "stdout",
     "output_type": "stream",
     "text": [
      "List of even numbers:  [2, 4, 6, 8, 10, 12, 14, 16, 18, 20]\n"
     ]
    }
   ],
   "source": [
    "my_list = []\n",
    "for i in range(1,21):\n",
    "    if i %2==0:\n",
    "        my_list.append(i)\n",
    "print(\"List of even numbers: \",my_list)"
   ]
  },
  {
   "cell_type": "markdown",
   "id": "fa777382-11fc-4513-85ed-bec5541d687a",
   "metadata": {},
   "source": [
    "### <span style =\"color:green;\"> 14. Create a list of odd numbers from 1 to 20.<span/>"
   ]
  },
  {
   "cell_type": "code",
   "execution_count": 111,
   "id": "d0cdab29-6f6a-4fd5-a32b-29ebb87a0f46",
   "metadata": {},
   "outputs": [
    {
     "name": "stdout",
     "output_type": "stream",
     "text": [
      "List of even numbers:  [1, 3, 5, 7, 9, 11, 13, 15, 17, 19]\n"
     ]
    }
   ],
   "source": [
    "my_list = []\n",
    "for i in range(1,21):\n",
    "    if i %2!=0:\n",
    "        my_list.append(i)\n",
    "print(\"List of even numbers: \",my_list)"
   ]
  },
  {
   "cell_type": "markdown",
   "id": "900bd104-971f-458a-855d-efa81c646a4c",
   "metadata": {},
   "source": [
    "### <span style =\"color:green;\"> 15. the sum of all elements in a list.<span/>"
   ]
  },
  {
   "cell_type": "code",
   "execution_count": 113,
   "id": "36451d6b-e7e6-4889-b31a-8a29e3f278b1",
   "metadata": {},
   "outputs": [
    {
     "name": "stdout",
     "output_type": "stream",
     "text": [
      "Sum of all elements in the list is : 30\n"
     ]
    }
   ],
   "source": [
    "my_list=[2,4,6,8,10]\n",
    "sum=0\n",
    "for i in my_list:\n",
    "    sum=sum+i\n",
    "print(\"Sum of all elements in the list is :\",sum)\n",
    "    "
   ]
  },
  {
   "cell_type": "markdown",
   "id": "cbab5d2c-651c-4401-97c2-d4fd631e53da",
   "metadata": {},
   "source": [
    "### <span style =\"color:green;\"> 16. the maximum value in a list.<span/>"
   ]
  },
  {
   "cell_type": "code",
   "execution_count": 119,
   "id": "465cede5-4bd1-4683-a34b-98ac46c6accd",
   "metadata": {},
   "outputs": [
    {
     "name": "stdout",
     "output_type": "stream",
     "text": [
      "[20, 2, 4, 51, 10]\n",
      "Maximum value in the list is:  51\n"
     ]
    }
   ],
   "source": [
    "my_list=[20,2,4,51,10]\n",
    "print(my_list)\n",
    "max_val=max(my_list)\n",
    "print(\"Maximum value in the list is: \",max_val)"
   ]
  },
  {
   "cell_type": "markdown",
   "id": "1b047ebc-85a8-48ea-93b6-4299bfe35db0",
   "metadata": {},
   "source": [
    "### <span style =\"color:green;\"> 17. the minimum value in a list.<span/>"
   ]
  },
  {
   "cell_type": "code",
   "execution_count": 121,
   "id": "df5e3920-b6ec-4612-98a1-be494df82235",
   "metadata": {},
   "outputs": [
    {
     "name": "stdout",
     "output_type": "stream",
     "text": [
      "[20, 2, 4, 51, 10]\n",
      "Minimum value in the list is:  2\n"
     ]
    }
   ],
   "source": [
    "my_list=[20,2,4,51,10]\n",
    "print(my_list)\n",
    "min_val=min(my_list)\n",
    "print(\"Minimum value in the list is: \",min_val)"
   ]
  },
  {
   "cell_type": "markdown",
   "id": "3caae0eb-fc3a-402c-bcdc-96826b79e54a",
   "metadata": {},
   "source": [
    "### <span style =\"color:green;\"> 18. Create a list of squares of numbers from 1 to 10.<span/>"
   ]
  },
  {
   "cell_type": "code",
   "execution_count": 130,
   "id": "6f788fbf-6a37-4744-9e6c-3c51525fcf6b",
   "metadata": {},
   "outputs": [
    {
     "name": "stdout",
     "output_type": "stream",
     "text": [
      "list of squares :  [1, 4, 9, 16, 25, 36, 49, 64, 81, 100]\n"
     ]
    }
   ],
   "source": [
    "list_square=[]\n",
    "for i in range(1,11):\n",
    "    list_square.append(i*i)\n",
    "print(\"list of squares : \",list_square)"
   ]
  },
  {
   "cell_type": "markdown",
   "id": "43e6255c-83ab-464c-8196-0f89b86c677e",
   "metadata": {},
   "source": [
    "### <span style =\"color:green;\"> 19. Create a list of random numbers.<span/>"
   ]
  },
  {
   "cell_type": "code",
   "execution_count": 149,
   "id": "fa330cb0-839e-4855-9fab-3090d75ee2f9",
   "metadata": {},
   "outputs": [
    {
     "name": "stdout",
     "output_type": "stream",
     "text": [
      "[6, 6, 6, 8, 5, 9, 5, 8, 5, 6]\n"
     ]
    }
   ],
   "source": [
    "import random\n",
    "\n",
    "rand_list=[]\n",
    "n=10\n",
    "for i in range(n):\n",
    "\trand_list.append(random.randint(3,9))\n",
    "print(rand_list)\n"
   ]
  },
  {
   "cell_type": "markdown",
   "id": "52145396-2ae6-43cb-8891-ec83f6d192f9",
   "metadata": {},
   "source": [
    "### <span style =\"color:green;\"> 20. Remove duplicates from a list.<span/>"
   ]
  },
  {
   "cell_type": "code",
   "execution_count": 151,
   "id": "052e83aa-6c1a-4c7e-bbdd-15b4d89a6546",
   "metadata": {},
   "outputs": [
    {
     "name": "stdout",
     "output_type": "stream",
     "text": [
      "[32, 2, 4, 5, 6, 41, 45, 14, 78, 82, 20]\n"
     ]
    }
   ],
   "source": [
    "my_list=[2,4,2,5,6,4,82,45,14,45,78,41,14,20,32]\n",
    "clean_list=list(set(my_list))\n",
    "print(clean_list)"
   ]
  },
  {
   "cell_type": "markdown",
   "id": "8e5a89e0-1d25-4395-96ae-d3a9e7653337",
   "metadata": {},
   "source": [
    "### <span style =\"color:green;\"> 21. the common elements between two lists.<span/>"
   ]
  },
  {
   "cell_type": "code",
   "execution_count": 162,
   "id": "85061223-a487-41f9-bd4e-58bc5e344d6d",
   "metadata": {},
   "outputs": [
    {
     "name": "stdout",
     "output_type": "stream",
     "text": [
      "[{5}]\n"
     ]
    }
   ],
   "source": [
    "def common_elements(a, b):\n",
    "    a_set = set(a)\n",
    "    b_set = set(b)\n",
    " \n",
    "    if (a_set & b_set):\n",
    "        print(a_set & b_set)\n",
    "    else:\n",
    "        print(\"No common elements\") \n",
    "          \n",
    "  \n",
    "a = [1, 2, 3, 4, 5]\n",
    "b = [5, 6, 7, 8, 9]\n",
    "common_elements(a, b)"
   ]
  },
  {
   "cell_type": "markdown",
   "id": "ccbce121-5581-42ce-9648-60fa38970c81",
   "metadata": {},
   "source": [
    "### <span style =\"color:green;\"> 22. the difference between two lists.<span/>"
   ]
  },
  {
   "cell_type": "code",
   "execution_count": 164,
   "id": "381e4aea-0c76-416a-8eff-86f02bc87d15",
   "metadata": {},
   "outputs": [
    {
     "name": "stdout",
     "output_type": "stream",
     "text": [
      "Difference between lists: [20, 10]\n"
     ]
    }
   ],
   "source": [
    "list1 = [10, 20, 30, 40, 50]\n",
    "list2 = [30, 40, 50, 60, 70]\n",
    "difference = list(set(list1).difference(list2))\n",
    "print(\"Difference between lists:\", difference)"
   ]
  },
  {
   "cell_type": "markdown",
   "id": "32f474be-b44f-41c0-b137-322659997a3d",
   "metadata": {},
   "source": [
    "### <span style =\"color:green;\"> 23. Merge two lists.<span/>"
   ]
  },
  {
   "cell_type": "code",
   "execution_count": 165,
   "id": "188f6d28-7728-4422-95ea-eb126ccae8b1",
   "metadata": {},
   "outputs": [
    {
     "name": "stdout",
     "output_type": "stream",
     "text": [
      "[10, 20, 30, 40, 50, 60, 70, 80]\n"
     ]
    }
   ],
   "source": [
    "my_list1=[10,20,30,40]\n",
    "my_list2=[50,60,70,80]\n",
    "new_list=my_list1 + my_list2\n",
    "print(new_list)"
   ]
  },
  {
   "cell_type": "markdown",
   "id": "62e4cb06-3f36-4fe3-98e9-8ff983dbe464",
   "metadata": {},
   "source": [
    "### <span style =\"color:green;\"> 24. Multiply all elements in a list by 2.<span/>"
   ]
  },
  {
   "cell_type": "code",
   "execution_count": 173,
   "id": "e837c7e8-bc0f-4716-bc55-dad916fb5c18",
   "metadata": {},
   "outputs": [
    {
     "name": "stdout",
     "output_type": "stream",
     "text": [
      "Old list:  [1, 2, 3, 4, 5, 6, 7, 8, 9, 10]\n",
      "list after multiplied by 2:  [2, 4, 6, 8, 10, 12, 14, 16, 18, 20]\n"
     ]
    }
   ],
   "source": [
    "my_list1 = []\n",
    "my_list2 = []\n",
    "\n",
    "for i in range(1,11):\n",
    "    my_list1.append(i)\n",
    "    my_list2.append(i*2)\n",
    "print(\"Old list: \",my_list1)\n",
    "print(\"list after multiplied by 2: \",my_list2)"
   ]
  },
  {
   "cell_type": "markdown",
   "id": "45bf9afd-3c13-4781-b876-58a7d83acd61",
   "metadata": {},
   "source": [
    "### <span style =\"color:green;\"> 25. Filter out all even numbers from a list.<span/>"
   ]
  },
  {
   "cell_type": "code",
   "execution_count": 176,
   "id": "ef0a744e-5851-40bc-ad3b-cdac2eee4490",
   "metadata": {},
   "outputs": [
    {
     "name": "stdout",
     "output_type": "stream",
     "text": [
      "2\n",
      "4\n",
      "6\n",
      "8\n",
      "10\n"
     ]
    }
   ],
   "source": [
    "my_list=[2,3,4,5,6,7,8,9,10]\n",
    "for i in my_list:\n",
    "    if i %2==0:\n",
    "        print(i)"
   ]
  },
  {
   "cell_type": "markdown",
   "id": "0cc3adc3-84ac-4816-8da1-4623c2c5078d",
   "metadata": {},
   "source": [
    "### <span style =\"color:green;\"> 26. Convert a list of strings to a list of integers.<span/>"
   ]
  },
  {
   "cell_type": "code",
   "execution_count": 185,
   "id": "cff24fac-995e-446c-aa7b-f4da519a3a49",
   "metadata": {},
   "outputs": [
    {
     "name": "stdout",
     "output_type": "stream",
     "text": [
      "List if string:  ['10', '20', '30', '40', '50']\n",
      "list of integers:  [10, 20, 30, 40, 50]\n"
     ]
    }
   ],
   "source": [
    "string_list = [\"10\", \"20\", \"30\", \"40\", \"50\"]\n",
    "print(\"List if string: \",string_list)\n",
    "integer_list=[]\n",
    "for i in string_list:\n",
    "    integer_list.append(int(i))\n",
    "print(\"list of integers: \",integer_list)"
   ]
  },
  {
   "cell_type": "markdown",
   "id": "e46cee03-ee84-4155-a2f6-4368108827b8",
   "metadata": {},
   "source": [
    "### <span style =\"color:green;\"> 26. Convert a list of strings to a list of integers.<span/>"
   ]
  },
  {
   "cell_type": "code",
   "execution_count": 186,
   "id": "18ce94b7-50e1-4a89-b451-23e9046bfcfc",
   "metadata": {},
   "outputs": [
    {
     "name": "stdout",
     "output_type": "stream",
     "text": [
      "list of string:  ['10', '20', '30', '40', '50']\n"
     ]
    }
   ],
   "source": [
    "integer_list=[10,20,30,40,50]\n",
    "string_list=[]\n",
    "for i in integer_list:\n",
    "    string_list.append(str(i))\n",
    "print(\"list of string: \",string_list)"
   ]
  },
  {
   "cell_type": "markdown",
   "id": "924300b4-742d-4347-b1bf-d65e9511f299",
   "metadata": {},
   "source": [
    "### <span style =\"color:green;\"> 28. Flatten a nested list.<span/>"
   ]
  },
  {
   "cell_type": "code",
   "execution_count": 187,
   "id": "f2ae36cf-eeeb-40d6-9eed-298bbe8386bf",
   "metadata": {},
   "outputs": [
    {
     "name": "stdout",
     "output_type": "stream",
     "text": [
      "[1, 2, 3, 4, 5, 6, 7]\n"
     ]
    }
   ],
   "source": [
    "my_list = [[1], [2, 3], [4, 5, 6, 7]]\n",
    "\n",
    "flat_list = []\n",
    "for i in my_list:\n",
    "    for j in i:\n",
    "        flat_list.append(j)\n",
    "\n",
    "print(flat_list)"
   ]
  },
  {
   "cell_type": "markdown",
   "id": "fc8c35e9-65b5-410c-8e2a-2cc78f69cddf",
   "metadata": {},
   "source": [
    "### <span style =\"color:green;\"> 29. Create a list of the first 10 Fibonacci numbers.<span/>"
   ]
  },
  {
   "cell_type": "code",
   "execution_count": 188,
   "id": "a41149a0-6368-42b3-a497-d5b72a8a6ad5",
   "metadata": {},
   "outputs": [
    {
     "name": "stdin",
     "output_type": "stream",
     "text": [
      "Enter the number of terms:  10\n"
     ]
    },
    {
     "name": "stdout",
     "output_type": "stream",
     "text": [
      "[0, 1, 1, 2, 3, 5, 8, 13, 21, 34]\n"
     ]
    }
   ],
   "source": [
    "p=0\n",
    "q=1\n",
    "n=int(input(\"Enter the number of terms: \"))\n",
    "i=2\n",
    "List=[p,q]\n",
    "while i<n:\n",
    "  fibo=p+q\n",
    "  List.append(fibo)\n",
    "  p=q\n",
    "  q=fibo\n",
    "  i+=1\n",
    "print(List)"
   ]
  },
  {
   "cell_type": "markdown",
   "id": "afaae8fc-7489-44df-8e97-aee61e371f81",
   "metadata": {},
   "source": [
    "### <span style =\"color:green;\"> 30. Check if a list is sorted.<span/>"
   ]
  },
  {
   "cell_type": "code",
   "execution_count": 7,
   "id": "faaadb25-debb-4527-9d01-40329acb776b",
   "metadata": {},
   "outputs": [
    {
     "name": "stdout",
     "output_type": "stream",
     "text": [
      "Yes the given list is sorted\n"
     ]
    }
   ],
   "source": [
    "test_list=[2,4,6,8,10]\n",
    "check=0\n",
    "if (test_list == sorted(test_list)):\n",
    "    check=1\n",
    "if(check):\n",
    "    print(\"Yes the given list is sorted\")\n",
    "else:\n",
    "    print(\"No the given list is not sorted\")"
   ]
  },
  {
   "cell_type": "markdown",
   "id": "64723881-2955-4ab2-80e8-9c5dbdb23cae",
   "metadata": {},
   "source": [
    "### <span style =\"color:green;\"> 31. Rotate a list to the left by `n` positions.<span/>"
   ]
  },
  {
   "cell_type": "code",
   "execution_count": 14,
   "id": "c225a01a-c5fc-43bb-90ab-9bf32fc5bd5f",
   "metadata": {},
   "outputs": [
    {
     "name": "stdout",
     "output_type": "stream",
     "text": [
      "The actual list [2, 3, 5, 9, 8]\n",
      "The rotated list is : [5, 9, 8, 2, 3]\n"
     ]
    }
   ],
   "source": [
    "my_list=[2,3,5,9,8]\n",
    "n=2\n",
    "rotated_list=my_list[n:]+my_list[:n]\n",
    "print(\"The actual list\",my_list)\n",
    "print(\"The rotated list is :\",rotated_list)"
   ]
  },
  {
   "cell_type": "markdown",
   "id": "d4e40065-0bb6-41f7-b8f0-7cfbab33ff1f",
   "metadata": {},
   "source": [
    "### <span style =\"color:green;\"> 32. Rotate a list to the right by `n` positions.<span/>"
   ]
  },
  {
   "cell_type": "code",
   "execution_count": 23,
   "id": "9c90e9e2-152a-4e4c-9984-5190f0bec518",
   "metadata": {},
   "outputs": [
    {
     "name": "stdout",
     "output_type": "stream",
     "text": [
      "Rotated list: [5, 6, 1, 2, 3, 4]\n"
     ]
    }
   ],
   "source": [
    "def rotate_right(lst, n):\n",
    "    n = n % len(lst)  # Normalize n to handle cases where n is larger than the list length\n",
    "    # print(n)\n",
    "    rotated = lst[-n:] + lst[:-n]\n",
    "    return rotated\n",
    "\n",
    "# Example list\n",
    "my_list = [1, 2, 3, 4, 5, 6]\n",
    "\n",
    "# Number of positions to rotate by\n",
    "n = 2\n",
    "\n",
    "# Rotate the list to the right by n positions\n",
    "rotated_list = rotate_right(my_list, n)\n",
    "print(\"Rotated list:\", rotated_list)"
   ]
  },
  {
   "cell_type": "markdown",
   "id": "126b75aa-fb43-416c-9940-ef1a4eee6951",
   "metadata": {},
   "source": [
    "### <span style =\"color:green;\"> 33. Create a list of  up to 50.<span/>"
   ]
  },
  {
   "cell_type": "code",
   "execution_count": 60,
   "id": "26e948f5-ddb0-4559-a120-c3e7f3f36a7a",
   "metadata": {},
   "outputs": [
    {
     "name": "stdout",
     "output_type": "stream",
     "text": [
      "Prime numbers between 2 and 51 are:\n",
      "[2, 3, 5, 7, 11, 13, 17, 19, 23, 29, 31, 37, 41, 43, 47]\n"
     ]
    }
   ],
   "source": [
    "# Python program to display all the  within an interval\n",
    "\n",
    "lower = 2\n",
    "upper = 51\n",
    "primes = []\n",
    "\n",
    "print(\" between\", lower, \"and\", upper, \"are:\")\n",
    "\n",
    "for num in range(lower, upper ):\n",
    "   if num > 1:\n",
    "       for i in range(2, num):\n",
    "           if (num % i) == 0:\n",
    "               break\n",
    "       else:\n",
    "           primes.append(num)\n",
    "print(primes)"
   ]
  },
  {
   "cell_type": "markdown",
   "id": "a51851ad-a75b-478a-be79-c4fe1a6db920",
   "metadata": {},
   "source": [
    "### <span style =\"color:green;\"> 34. Split a list into chunks of size `n`.<span/>"
   ]
  },
  {
   "cell_type": "code",
   "execution_count": 64,
   "id": "b65c8ffb-cb28-4e7f-93e3-c19fdd752bd7",
   "metadata": {},
   "outputs": [
    {
     "name": "stdout",
     "output_type": "stream",
     "text": [
      "[1, 2, 3]\n",
      "[4, 5, 6]\n",
      "[7, 8, 9]\n"
     ]
    }
   ],
   "source": [
    "my_list = [1, 2, 3, 4, 5, \n",
    "\t\t6, 7, 8, 9] \n",
    "start = 0\n",
    "end = len(my_list) \n",
    "step = 3\n",
    "for i in range(start, end, step): \n",
    "\tx = i \n",
    "\tprint(my_list[x:x+step]) \n"
   ]
  },
  {
   "cell_type": "markdown",
   "id": "7d6d8e54-c8fe-4dd7-8347-1762577b7dbf",
   "metadata": {},
   "source": [
    "### <span style =\"color:green;\"> 35. the second largest number in a list.<span/>"
   ]
  },
  {
   "cell_type": "code",
   "execution_count": 84,
   "id": "008e4b46-0575-4e88-9d3d-fd81b9af8e71",
   "metadata": {},
   "outputs": [
    {
     "name": "stdout",
     "output_type": "stream",
     "text": [
      "[2, 12, 14, 18, 26, 41]\n",
      "The second largest number in the list is: 26\n"
     ]
    }
   ],
   "source": [
    "my_list = [2,18,2,26,12,14,12,41]\n",
    "#removing the duplicates and sorting the list into ascending order in a new variable\n",
    "my_list1=sorted(list(set(my_list)))\n",
    "# printing the sorted list\n",
    "print(my_list1)\n",
    "#we can understand the element before the last one is the second largest number\n",
    "print(\"The second largest number in the list is:\",my_list1[-2])"
   ]
  },
  {
   "cell_type": "markdown",
   "id": "a7eebde0-1794-4cf9-a6d9-3f1e4192b61b",
   "metadata": {},
   "source": [
    "### <span style =\"color:green;\"> 36. Replace every element in a list with its square.<span/>"
   ]
  },
  {
   "cell_type": "code",
   "execution_count": 88,
   "id": "e182316b-5b02-49ac-8fd9-cc53835ecfa5",
   "metadata": {},
   "outputs": [
    {
     "name": "stdout",
     "output_type": "stream",
     "text": [
      "my_list: [2, 4, 6, 8]\n",
      "Squared list : [4, 16, 36, 64]\n"
     ]
    }
   ],
   "source": [
    "my_list = [2,4,6,8]\n",
    "squared_list = []\n",
    "for i in my_list:\n",
    "    i = i*i\n",
    "    squared_list.append(i)\n",
    "print(\"my_list:\",my_list)\n",
    "print(\"Squared list :\",squared_list)"
   ]
  },
  {
   "cell_type": "markdown",
   "id": "a8c0f3c8-0069-4cde-b1da-a59fb4c5e1f2",
   "metadata": {},
   "source": [
    "### <span style =\"color:green;\"> 37. Convert a list to a dictionary where list elements become keys and their indices become values.<span/>"
   ]
  },
  {
   "cell_type": "code",
   "execution_count": 92,
   "id": "38e601a4-34ed-4276-a767-f932086a26bc",
   "metadata": {},
   "outputs": [
    {
     "name": "stdout",
     "output_type": "stream",
     "text": [
      "{'apple': 0, 'banana': 1, 'cherry': 2, 'date': 3}\n"
     ]
    }
   ],
   "source": [
    "my_list = [\"apple\", \"banana\", \"cherry\", \"date\"]\n",
    "my_dict = {}  \n",
    "for index, element in enumerate(my_list):\n",
    "    my_dict[element] = index\n",
    "print(my_dict)"
   ]
  },
  {
   "cell_type": "markdown",
   "id": "668c02f3-006c-4ada-9a62-29e8e3f06aee",
   "metadata": {},
   "source": [
    "### <span style =\"color:green;\"> 38. Shuffle the elements of a list randomly.<span/>"
   ]
  },
  {
   "cell_type": "code",
   "execution_count": 93,
   "id": "fce3b0f2-1b21-41a1-89b7-26f5126d1ee0",
   "metadata": {},
   "outputs": [
    {
     "name": "stdout",
     "output_type": "stream",
     "text": [
      "Shuffled list: [5, 4, 7, 2, 3, 10, 1, 8, 9, 6]\n"
     ]
    }
   ],
   "source": [
    "import random\n",
    "my_list = [1, 2, 3, 4, 5, 6, 7, 8, 9, 10]\n",
    "\n",
    "random.shuffle(my_list)\n",
    "\n",
    "print(\"Shuffled list:\", my_list)"
   ]
  },
  {
   "cell_type": "markdown",
   "id": "d419cf94-8a3d-4d0f-ad73-ecd8c2132f60",
   "metadata": {},
   "source": [
    "### <span style =\"color:green;\"> 39. Create a list of the first 10 factorial numbers.<span/>"
   ]
  },
  {
   "cell_type": "code",
   "execution_count": 95,
   "id": "b3313bcf-03e2-4d42-acca-372c06c6445a",
   "metadata": {},
   "outputs": [
    {
     "name": "stdout",
     "output_type": "stream",
     "text": [
      "List of the first 10 factorial numbers: [1, 1, 2, 6, 24, 120, 720, 5040, 40320, 362880]\n"
     ]
    }
   ],
   "source": [
    "# Function to calculate factorial\n",
    "def factorial(n):\n",
    "    if n == 0 or n == 1:\n",
    "        return 1\n",
    "    else:\n",
    "        return n * factorial(n - 1)\n",
    "\n",
    "# Create a list of the first 10 factorial numbers\n",
    "factorial_numbers = []\n",
    "for i in range(10):\n",
    "    factorial_numbers.append(factorial(i))\n",
    "\n",
    "# Print the list of factorial numbers\n",
    "print(\"List of the first 10 factorial numbers:\", factorial_numbers)"
   ]
  },
  {
   "cell_type": "markdown",
   "id": "8c149eee-7c4d-44ea-8330-5905a63af3a3",
   "metadata": {},
   "source": [
    "### <span style =\"color:green;\"> 40. Check if two lists have at least one element in common.<span/>"
   ]
  },
  {
   "cell_type": "code",
   "execution_count": 99,
   "id": "7113d480-a131-4ee6-8ac6-b1101e08b6ae",
   "metadata": {},
   "outputs": [
    {
     "name": "stdout",
     "output_type": "stream",
     "text": [
      "True\n",
      "False\n"
     ]
    }
   ],
   "source": [
    "def common_data(list1, list2):\n",
    "\tresult = False\n",
    "\tfor x in list1:\n",
    "\t\tfor y in list2:\n",
    "\t\t\tif x == y:\n",
    "\t\t\t\tresult = True\n",
    "\t\t\t\treturn result \n",
    "\t\t\t\t\n",
    "\treturn result\n",
    "\t\n",
    "\n",
    "a = [1, 2, 3, 4, 5]\n",
    "b = [5, 6, 7, 8, 9]\n",
    "print(common_data(a, b))\n",
    "\n",
    "a = [1, 2, 3, 4, 5]\n",
    "b = [6, 7, 8, 9]\n",
    "print(common_data(a, b))\n"
   ]
  },
  {
   "cell_type": "markdown",
   "id": "9cff18e8-2c90-4eac-ae39-6229e32196ce",
   "metadata": {},
   "source": [
    "### <span style =\"color:green;\"> 41. Remove all elements from a list.<span/>"
   ]
  },
  {
   "cell_type": "code",
   "execution_count": 106,
   "id": "83d6ae8a-8155-4b32-aa9f-f4b92283d9c0",
   "metadata": {},
   "outputs": [
    {
     "name": "stdout",
     "output_type": "stream",
     "text": [
      "The list after removing all the elements:  []\n"
     ]
    }
   ],
   "source": [
    "my_list = [2,4,\"asmita\",2.4]\n",
    "my_list.clear()\n",
    "print(\"The list after removing all the elements: \",my_list)"
   ]
  },
  {
   "cell_type": "markdown",
   "id": "bfa357d2-b8a1-4a1e-9882-1f69cc47d7c8",
   "metadata": {},
   "source": [
    "### <span style =\"color:green;\"> 42. Replace negative numbers in a list with 0.<span/>"
   ]
  },
  {
   "cell_type": "code",
   "execution_count": 108,
   "id": "b9b1a2f0-c5f5-4208-9c9c-d32014f918cd",
   "metadata": {},
   "outputs": [
    {
     "name": "stdout",
     "output_type": "stream",
     "text": [
      "[2, 4, 5, 0, 4, 0]\n"
     ]
    }
   ],
   "source": [
    "my_list=[2,4,5,-2,4,-8]\n",
    "for i in range(len(my_list)):\n",
    "    if my_list[i] < 0:\n",
    "        my_list[i]= 0\n",
    "print(my_list)"
   ]
  },
  {
   "cell_type": "markdown",
   "id": "e552f19f-f00b-4eab-85b6-3cae5de6cd8b",
   "metadata": {},
   "source": [
    "### <span style =\"color:green;\"> 43. Convert a string into a list of words.<span/>"
   ]
  },
  {
   "cell_type": "code",
   "execution_count": 111,
   "id": "6edd673c-028b-4db7-8ce4-3823b8aa4392",
   "metadata": {},
   "outputs": [
    {
     "name": "stdout",
     "output_type": "stream",
     "text": [
      "List of words : ['hello,', 'welcome', 'to', 'jupyter']\n"
     ]
    }
   ],
   "source": [
    "my_string= \"hello, welcome to jupyter\"\n",
    "word_list = my_string.split()\n",
    "print(\"List of words :\",word_list)"
   ]
  },
  {
   "cell_type": "markdown",
   "id": "3ddfd9a4-e3df-42a6-a927-ffa761fe8dc7",
   "metadata": {},
   "source": [
    "### <span style =\"color:green;\"> 44. Convert a list of words into a string.<span/>"
   ]
  },
  {
   "cell_type": "code",
   "execution_count": 113,
   "id": "6a467595-168f-44c1-b0ec-32438ca6d7a0",
   "metadata": {},
   "outputs": [
    {
     "name": "stdout",
     "output_type": "stream",
     "text": [
      "hello, this is asmita\n"
     ]
    }
   ],
   "source": [
    "my_list= [\"hello,\",\"this\",\"is\",\"asmita\"]\n",
    "my_string = \" \".join(my_list)\n",
    "print(my_string)"
   ]
  },
  {
   "cell_type": "markdown",
   "id": "cf740037-c4e6-4047-a531-d25a8aa58e22",
   "metadata": {},
   "source": [
    "### <span style =\"color:green;\"> 45. Create a list of the first n powers of 2.<span/>"
   ]
  },
  {
   "cell_type": "code",
   "execution_count": 114,
   "id": "69ed3e5a-dfa6-46c3-aaef-848ed127c8cb",
   "metadata": {},
   "outputs": [
    {
     "name": "stdout",
     "output_type": "stream",
     "text": [
      "The list of the first n powers of 2 is : [0, 1, 4, 9, 16, 25, 36, 49, 64, 81]\n"
     ]
    }
   ],
   "source": [
    "n=10\n",
    "powered_list = []\n",
    "for i in range(n):\n",
    "    i = i**2\n",
    "    powered_list.append(i)\n",
    "print(\"The list of the first n powers of 2 is :\",powered_list)"
   ]
  },
  {
   "cell_type": "markdown",
   "id": "e4f8d802-e91a-460a-9200-1beca7bbb641",
   "metadata": {},
   "source": [
    "### <span style =\"color:green;\"> 46. the longest string in a list of strings.<span/>"
   ]
  },
  {
   "cell_type": "code",
   "execution_count": 118,
   "id": "0c883388-51fc-44a1-b36b-5503a0e1da50",
   "metadata": {},
   "outputs": [
    {
     "name": "stdout",
     "output_type": "stream",
     "text": [
      "The longest string in the list is : science\n"
     ]
    }
   ],
   "source": [
    "string_list = [\"asmita\",\"das\",\"data\",\"science\",\"python\"]\n",
    "longest_string = []\n",
    "for i in string_list :\n",
    "    if len(i) > len(longest_string):\n",
    "        longest_string=i\n",
    "print(\"The longest string in the list is :\",longest_string)"
   ]
  },
  {
   "cell_type": "markdown",
   "id": "1b0e68ac-9e7f-413b-8fd9-dd37f74d1f55",
   "metadata": {},
   "source": [
    "### <span style =\"color:green;\"> 47. the shortest string in a list of strings.<span/>"
   ]
  },
  {
   "cell_type": "code",
   "execution_count": 120,
   "id": "d6812f47-f76d-4e0f-914f-13f8307130e5",
   "metadata": {},
   "outputs": [
    {
     "name": "stdout",
     "output_type": "stream",
     "text": [
      "The longest string in the list is : das\n"
     ]
    }
   ],
   "source": [
    "string_list = [\"asmita\",\"das\",\"data\",\"science\",\"python\"]\n",
    "shortest_string = string_list[0]\n",
    "for i in string_list :\n",
    "    if len(i) < len(shortest_string):\n",
    "        shortest_string=i\n",
    "print(\"The longest string in the list is :\",shortest_string)"
   ]
  },
  {
   "cell_type": "markdown",
   "id": "1fccf9d1-da36-4c66-b928-76134e794f33",
   "metadata": {},
   "source": [
    "### <span style =\"color:green;\"> 48. Create a list of the first `n` triangular numbers.<span/>"
   ]
  },
  {
   "cell_type": "code",
   "execution_count": 122,
   "id": "91636e36-fb5c-4bf9-8ebd-9a45b7b8a8e1",
   "metadata": {},
   "outputs": [
    {
     "name": "stdout",
     "output_type": "stream",
     "text": [
      "List of the first n triangular numbers: [1, 3, 6, 10, 15, 21, 28, 36, 45, 55]\n"
     ]
    }
   ],
   "source": [
    "n=10\n",
    "triangular_numbers =[]\n",
    "for i in range(1,n+1):\n",
    "    i=i*(i+1)//2\n",
    "    triangular_numbers.append(i)\n",
    "print(\"List of the first n triangular numbers:\",triangular_numbers)"
   ]
  },
  {
   "cell_type": "markdown",
   "id": "247b1dca-a6fb-4307-bd40-783fed654881",
   "metadata": {},
   "source": [
    "### <span style =\"color:green;\"> 49. Check if a list contains another list as a subsequence.<span/>"
   ]
  },
  {
   "cell_type": "code",
   "execution_count": 3,
   "id": "c74e6261-d2fa-426f-890a-dcf4aa9f384b",
   "metadata": {},
   "outputs": [
    {
     "name": "stdout",
     "output_type": "stream",
     "text": [
      "Main list contains the subsequence.\n"
     ]
    }
   ],
   "source": [
    "# Function to check if a list contains another list as a subsequence\n",
    "def is_subsequence(subsequence, main_list):\n",
    "    subseq_index = 0  # Index for the subsequence elements\n",
    "    for element in main_list:\n",
    "        if element == subsequence[subseq_index]:\n",
    "            subseq_index += 1\n",
    "            if subseq_index == len(subsequence):\n",
    "                return True\n",
    "    return False\n",
    "\n",
    "# Example main list and subsequence\n",
    "main_list = [1, 2, 3, 4, 5, 6, 7, 8, 9, 10]\n",
    "subsequence = [2, 5, 8]\n",
    "\n",
    "# Check if the main list contains the subsequence\n",
    "if is_subsequence(subsequence, main_list):\n",
    "    print(\"Main list contains the subsequence.\")\n",
    "else:\n",
    "    print(\"Main list does not contain the subsequence.\")"
   ]
  },
  {
   "cell_type": "markdown",
   "id": "cf22f00f-afd0-4012-bd91-c33eda6f499b",
   "metadata": {},
   "source": [
    "### <span style =\"color:green;\">50. Swap two elements in a list by their indices<span/>"
   ]
  },
  {
   "cell_type": "code",
   "execution_count": 126,
   "id": "00e00a5f-9d51-4ce4-8a43-1d3cf78ed91e",
   "metadata": {},
   "outputs": [
    {
     "name": "stdout",
     "output_type": "stream",
     "text": [
      "[10, 60, 20, 30, 50]\n"
     ]
    }
   ],
   "source": [
    "def swapPositions(my_list, position1, position2):\n",
    "    my_list[position1], my_list[position2] = my_list[position2], my_list[position1]\n",
    "    return my_list\n",
    " \n",
    "# Driver function\n",
    "my_List = [20, 60, 10, 30,50]\n",
    "position1  = 1\n",
    "position2   =3\n",
    " \n",
    "print(swapPositions(my_List, position1 -1, position2-1))"
   ]
  },
  {
   "cell_type": "markdown",
   "id": "48de2f14-a310-4a3e-80ff-9c6edfe8ffa1",
   "metadata": {},
   "source": [
    "# <span style=\"color: blue;\">TOPIC: Tuple Based Assignment Problem</span>"
   ]
  },
  {
   "cell_type": "markdown",
   "id": "11bc4b4a-3390-4959-bec8-238be84416df",
   "metadata": {},
   "source": [
    "### <span style =\"color:green;\">1. Create a tuple with integers from 1 to 5.<span/>"
   ]
  },
  {
   "cell_type": "code",
   "execution_count": 4,
   "id": "31077e61-331d-44b5-8383-015836dae3f1",
   "metadata": {},
   "outputs": [
    {
     "name": "stdout",
     "output_type": "stream",
     "text": [
      "(1, 2, 3, 4, 5)\n"
     ]
    }
   ],
   "source": [
    "my_tuple =(1,2,3,4,5)\n",
    "print(my_tuple)"
   ]
  },
  {
   "cell_type": "markdown",
   "id": "94f87345-3dab-46c6-b149-09fb28264493",
   "metadata": {},
   "source": [
    "### <span style =\"color:green;\">2. Access the third element of a tuple.<span/>"
   ]
  },
  {
   "cell_type": "code",
   "execution_count": 8,
   "id": "e2237a4f-b66b-4f0b-a3ad-556d4c650d96",
   "metadata": {},
   "outputs": [
    {
     "name": "stdout",
     "output_type": "stream",
     "text": [
      "The third element of the tuple is : 30\n"
     ]
    }
   ],
   "source": [
    "my_tuple = (10,20,30,40,50)\n",
    "\n",
    "print(\"The third element of the tuple is :\",my_tuple[2])"
   ]
  },
  {
   "cell_type": "markdown",
   "id": "f596321e-1b66-425f-9e19-1758666a1246",
   "metadata": {},
   "source": [
    "### <span style =\"color:green;\">3. Count the length of a tuple without using the `len()` function.<span/>"
   ]
  },
  {
   "cell_type": "code",
   "execution_count": 9,
   "id": "6c42bfe0-079c-4aa3-959c-342f695b76db",
   "metadata": {},
   "outputs": [
    {
     "name": "stdout",
     "output_type": "stream",
     "text": [
      "The lenth of the tuple is :  7\n"
     ]
    }
   ],
   "source": [
    "my_tuple =(2,4,6,8,10,1,2)\n",
    "lenth =0\n",
    "for i in my_tuple :\n",
    "    lenth = lenth +1\n",
    "print(\"The lenth of the tuple is : \",lenth)\n",
    "    "
   ]
  },
  {
   "cell_type": "markdown",
   "id": "8bc9e366-5286-48f6-a89a-874894607b3d",
   "metadata": {},
   "source": [
    "### <span style =\"color:green;\">4. Count the occurrences of an element in a tuple.<span/>"
   ]
  },
  {
   "cell_type": "code",
   "execution_count": 12,
   "id": "e05eb210-1239-4ffe-8caa-b94ee666b575",
   "metadata": {},
   "outputs": [
    {
     "name": "stdout",
     "output_type": "stream",
     "text": [
      "The element 2  occurs  3 times in the tuple.\n"
     ]
    }
   ],
   "source": [
    "my_tuple = (2,4,5,6,7,8,9,2,12,2)\n",
    "element=2\n",
    "count =0\n",
    "for i in my_tuple:\n",
    "    if i == element:\n",
    "        count+=1\n",
    "print(\"The element\",element,\" occurs \",count,\"times in the tuple.\")\n"
   ]
  },
  {
   "cell_type": "markdown",
   "id": "0ff7179e-d888-4eb7-ae69-43123784321c",
   "metadata": {},
   "source": [
    "### <span style =\"color:green;\">5. the index of the first occurrence of an element in a tuple.<span/>"
   ]
  },
  {
   "cell_type": "code",
   "execution_count": 38,
   "id": "c2b49b7d-72d5-4aed-9e64-13d9e7566dbc",
   "metadata": {},
   "outputs": [
    {
     "name": "stdin",
     "output_type": "stream",
     "text": [
      "Element to find : 2\n"
     ]
    },
    {
     "name": "stdout",
     "output_type": "stream",
     "text": [
      "The first occurrence of element is at index 3\n"
     ]
    }
   ],
   "source": [
    "my_tuple = (1,5,8,2,4,6,5,2,9)\n",
    "\n",
    "element = int(input(\"Element to :\"))\n",
    "\n",
    "try:\n",
    "    index = my_tuple.index(element)\n",
    "    print(\"The first occurrence of element is at index\", index)\n",
    "except ValueError:\n",
    "    print(\"element is not in the tuple\")\n"
   ]
  },
  {
   "cell_type": "markdown",
   "id": "c22dcd6c-8b7a-4457-9b9c-9b700e5dec7b",
   "metadata": {},
   "source": [
    "### <span style =\"color:green;\">6. Check if an element exists in a tuple.<span/>"
   ]
  },
  {
   "cell_type": "code",
   "execution_count": 41,
   "id": "4bf0d924-22cf-4612-9925-6a5cfa25e3d5",
   "metadata": {},
   "outputs": [
    {
     "name": "stdin",
     "output_type": "stream",
     "text": [
      "Element to check: 2\n"
     ]
    },
    {
     "name": "stdout",
     "output_type": "stream",
     "text": [
      "Yes the element 2  exists in the tuple \n"
     ]
    }
   ],
   "source": [
    "my_tuple = (1,5,8,2,4,6,5,2,9)\n",
    "element = int(input(\"Element to check:\"))\n",
    "if element in my_tuple:\n",
    "    print(\"Yes the element\",element,\" exists in the tuple \")\n",
    "else:\n",
    "    print(\"No the element\",element,\" does not exists in the tuple\")"
   ]
  },
  {
   "cell_type": "markdown",
   "id": "a039170e-e64d-4ba2-aa1a-ad3f75553ebb",
   "metadata": {},
   "source": [
    "### <span style =\"color:green;\">7. Convert a tuple to a list.<span/>"
   ]
  },
  {
   "cell_type": "code",
   "execution_count": 43,
   "id": "b96b90fb-dd74-4fd1-a3d8-bee3cf1ea97b",
   "metadata": {},
   "outputs": [
    {
     "name": "stdout",
     "output_type": "stream",
     "text": [
      "Tuple: (1, 5, 8, 2, 4, 6, 5, 2, 9)\n",
      "List: [1, 5, 8, 2, 4, 6, 5, 2, 9]\n"
     ]
    }
   ],
   "source": [
    "my_tuple = (1,5,8,2,4,6,5,2,9)\n",
    "my_list=list(my_tuple)\n",
    "print(\"Tuple:\", my_tuple)\n",
    "print(\"List:\", my_list)"
   ]
  },
  {
   "cell_type": "markdown",
   "id": "32aa6f16-2275-47ca-a746-97da0fcd07fd",
   "metadata": {},
   "source": [
    "### <span style =\"color:green;\">8. Convert a list to a tuple.<span/>"
   ]
  },
  {
   "cell_type": "code",
   "execution_count": 45,
   "id": "bf2edaf7-d86b-4929-b15f-8610656f1037",
   "metadata": {},
   "outputs": [
    {
     "name": "stdout",
     "output_type": "stream",
     "text": [
      "List: [1, 5, 8, 2, 4, 6, 5, 2, 9]\n",
      "Tuple: (1, 5, 8, 2, 4, 6, 5, 2, 9)\n"
     ]
    }
   ],
   "source": [
    "my_list=[1, 5, 8, 2, 4, 6, 5, 2, 9]\n",
    "my_tuple = tuple(my_list)\n",
    "print(\"List:\", my_list)\n",
    "print(\"Tuple:\", my_tuple)"
   ]
  },
  {
   "cell_type": "markdown",
   "id": "9117306c-a7e0-4031-a919-a568f3a3290c",
   "metadata": {},
   "source": [
    "### <span style =\"color:green;\">9. Unpack the elements of a tuple into variables.<span/>"
   ]
  },
  {
   "cell_type": "code",
   "execution_count": 58,
   "id": "b9c651e1-c4de-4a9b-a224-4c5f387df1b4",
   "metadata": {},
   "outputs": [
    {
     "name": "stdout",
     "output_type": "stream",
     "text": [
      "9\n"
     ]
    }
   ],
   "source": [
    "my_tuple = (1, 5, 8, 2, 4, 6, 5, 2, 9)\n",
    "print(len(my_tuple))"
   ]
  },
  {
   "cell_type": "code",
   "execution_count": 62,
   "id": "b1eabef5-c00f-4371-aa16-6035d9212221",
   "metadata": {},
   "outputs": [
    {
     "name": "stdout",
     "output_type": "stream",
     "text": [
      "Variable 1 : 1\n",
      "Variable 2 : 5\n",
      "Variable 3 : 8\n",
      "Variable 4 : 2\n",
      "Variable 5 : 4\n",
      "Variable 6 : 6\n",
      "Variable 7 : 5\n",
      "Variable 8 : 2\n",
      "Variable 9 : 9\n"
     ]
    }
   ],
   "source": [
    "# creating 9 variables as we can see the lenth of the tuple is 9\n",
    "var1,var2,var3,var4,var5,var6,var7,var8,var9 = my_tuple\n",
    "print(\"Variable 1 :\",var1)\n",
    "print(\"Variable 2 :\",var2)\n",
    "print(\"Variable 3 :\",var3)\n",
    "print(\"Variable 4 :\",var4)\n",
    "print(\"Variable 5 :\",var5)\n",
    "print(\"Variable 6 :\",var6)\n",
    "print(\"Variable 7 :\",var7)\n",
    "print(\"Variable 8 :\",var8)\n",
    "print(\"Variable 9 :\",var9)"
   ]
  },
  {
   "cell_type": "markdown",
   "id": "a6a12af6-6e72-4cf6-909b-b42b59fc7d2a",
   "metadata": {},
   "source": [
    "### <span style =\"color:green;\">10. Create a tuple of even numbers from 1 to 10.<span/>\n"
   ]
  },
  {
   "cell_type": "code",
   "execution_count": 77,
   "id": "753abfef-376d-406f-88f9-84689c3aa2c2",
   "metadata": {},
   "outputs": [
    {
     "name": "stdout",
     "output_type": "stream",
     "text": [
      "Tuple of even numbers from 1 to 10 :  (2, 4, 6, 8, 10)\n"
     ]
    }
   ],
   "source": [
    "even_numbers = tuple (i for i in range(1,11)if i % 2 ==0)\n",
    "print(\"Tuple of even numbers from 1 to 10 : \",even_numbers)"
   ]
  },
  {
   "cell_type": "markdown",
   "id": "c6ce9944-f554-42f6-8ce7-b3cd52b1b22e",
   "metadata": {},
   "source": [
    "### <span style =\"color:green;\">11. Create a tuple of odd numbers from 1 to 10.<span/>\n"
   ]
  },
  {
   "cell_type": "code",
   "execution_count": 78,
   "id": "84b8f4f0-4915-4027-a5f1-1921931fc3ed",
   "metadata": {},
   "outputs": [
    {
     "name": "stdout",
     "output_type": "stream",
     "text": [
      "Tuple of odd numbers from 1 to 10 :  (1, 3, 5, 7, 9)\n"
     ]
    }
   ],
   "source": [
    "odd_numbers = tuple (i for i in range(1,11)if i % 2 !=0)\n",
    "print(\"Tuple of odd numbers from 1 to 10 : \",odd_numbers)"
   ]
  },
  {
   "cell_type": "markdown",
   "id": "85047631-9928-4255-9cdd-4ad986971305",
   "metadata": {},
   "source": [
    "### <span style =\"color:green;\">12. Concatenate two tuples.<span/>\n"
   ]
  },
  {
   "cell_type": "code",
   "execution_count": 79,
   "id": "c57bdcaf-d0aa-441d-857b-0b36f839d40b",
   "metadata": {},
   "outputs": [
    {
     "name": "stdout",
     "output_type": "stream",
     "text": [
      "Concatnated tuple is : (2, 4, 6, 8, 1, 3, 5, 7)\n"
     ]
    }
   ],
   "source": [
    "tuple_1 = (2,4,6,8)\n",
    "tuple_2 = (1,3,5,7)\n",
    "concatenate_tuple = tuple_1 + tuple_2\n",
    "print(\"Concatnated tuple is :\",concatenate_tuple)"
   ]
  },
  {
   "cell_type": "markdown",
   "id": "df1528bd-94e2-4ec0-88f3-3a7004711107",
   "metadata": {},
   "source": [
    "### <span style =\"color:green;\">13. Repeat a tuple three times.<span/>\n"
   ]
  },
  {
   "cell_type": "code",
   "execution_count": 82,
   "id": "0c4b91b9-0a04-4af6-b2ba-10399ceae5cc",
   "metadata": {},
   "outputs": [
    {
     "name": "stdout",
     "output_type": "stream",
     "text": [
      "The repeated tuple: (1, 3, 5, 7, 1, 3, 5, 7, 1, 3, 5, 7)\n"
     ]
    }
   ],
   "source": [
    "my_tuple = (1,3,5,7)\n",
    "repeated_tuple = my_tuple * 3\n",
    "print(\"The repeated tuple:\",repeated_tuple)"
   ]
  },
  {
   "cell_type": "markdown",
   "id": "4f33f5ec-4c54-4417-9979-7f4955ddd377",
   "metadata": {},
   "source": [
    "### <span style =\"color:green;\">14. Check if a tuple is empty.<span/>\n"
   ]
  },
  {
   "cell_type": "code",
   "execution_count": 86,
   "id": "5eee3de0-d457-43d6-a381-2a503714f802",
   "metadata": {},
   "outputs": [
    {
     "name": "stdout",
     "output_type": "stream",
     "text": [
      "No the given tuple is not empty\n"
     ]
    }
   ],
   "source": [
    "empty_tuple = ()\n",
    "my_tuple = (2,4,6,8,10)\n",
    "if my_tuple == empty_tuple:\n",
    "    print(\"Yes the given tuple is empty \")\n",
    "else :\n",
    "    print (\"No the given tuple is not empty\")"
   ]
  },
  {
   "cell_type": "markdown",
   "id": "9e22a371-ff23-4365-a626-a901369c463a",
   "metadata": {},
   "source": [
    "### <span style =\"color:green;\">15. Create a nested tuple.<span/>\n"
   ]
  },
  {
   "cell_type": "code",
   "execution_count": 90,
   "id": "b62c4bef-31e8-434f-aed8-f91fb76b3c49",
   "metadata": {},
   "outputs": [
    {
     "name": "stdout",
     "output_type": "stream",
     "text": [
      "Nested tuple : ((1, 2, 3), ('asmita', 'das', 'python'), ('asmits', 23, 2.4), ['das', 'data_science', 40])\n",
      "<class 'tuple'>\n"
     ]
    }
   ],
   "source": [
    "nested_tuple = ((1,2,3),(\"asmita\",\"das\",\"python\"),(\"asmits\",23,2.4),[\"das\",\"data_science\",40])\n",
    "print(\"Nested tuple :\",nested_tuple)\n",
    "print(type(nested_tuple))"
   ]
  },
  {
   "cell_type": "markdown",
   "id": "d0e00ce9-db8a-4ec7-b572-b358d0f6cf36",
   "metadata": {},
   "source": [
    "### <span style =\"color:green;\">16. Access the first element of a nested tuple.<span/>\n"
   ]
  },
  {
   "cell_type": "code",
   "execution_count": 92,
   "id": "ad0b285a-cd89-4cb2-94fb-d8501295c065",
   "metadata": {},
   "outputs": [
    {
     "name": "stdout",
     "output_type": "stream",
     "text": [
      "The first element of the nested tuple  : (1, 2, 3)\n"
     ]
    }
   ],
   "source": [
    "nested_tuple = ((1,2,3),(\"asmita\",\"das\",\"python\"),(\"asmits\",23,2.4),[\"das\",\"data_science\",40])\n",
    "print(\"The first element of the nested tuple  :\",nested_tuple[0])"
   ]
  },
  {
   "cell_type": "markdown",
   "id": "1a789c25-d253-4b9f-a30b-6476244193b3",
   "metadata": {},
   "source": [
    "### <span style =\"color:green;\">17. Create a tuple with a single element.<span/>\n"
   ]
  },
  {
   "cell_type": "code",
   "execution_count": 93,
   "id": "a8ed03f4-b995-411d-abf3-46e463f19b3c",
   "metadata": {},
   "outputs": [
    {
     "name": "stdout",
     "output_type": "stream",
     "text": [
      "<class 'tuple'>\n",
      "Single element tuple : ('asmita',)\n"
     ]
    }
   ],
   "source": [
    "single_element_tuple = (\"asmita\",)\n",
    "print(type(single_element_tuple))\n",
    "print(\"Single element tuple :\",single_element_tuple)"
   ]
  },
  {
   "cell_type": "markdown",
   "id": "2458c03f-7425-47a0-b82a-505e04f8e115",
   "metadata": {},
   "source": [
    "### <span style =\"color:green;\">18. Compare two tuples.<span/>\n"
   ]
  },
  {
   "cell_type": "code",
   "execution_count": 104,
   "id": "e53eb00d-73dc-4c90-a5e2-f75cd52d6333",
   "metadata": {},
   "outputs": [
    {
     "name": "stdout",
     "output_type": "stream",
     "text": [
      "1.The both tuples are not equal\n",
      "2.Both the tuple have in same lenth\n",
      "3.Tuple 2 is greater than tuple 1\n"
     ]
    }
   ],
   "source": [
    "tuple_1 = (1,2,3)\n",
    "tuple_2 = (1,2,4)\n",
    "# equality check\n",
    "if tuple_1 == tuple_2:\n",
    "    print(\"1.The both tuples are equal\")\n",
    "else :\n",
    "    print(\"1.The both tuples are not equal\")\n",
    "# lenth check\n",
    "if len(tuple_1) == len(tuple_2):\n",
    "    print(\"2.Both the tuple have in same lenth\")\n",
    "else :\n",
    "    print(\"2.Both the tuple have in different lenth\")\n",
    "#check for greater than or less than\n",
    "if tuple_1 > tuple_2:\n",
    "    print(\"3.Tuple 1 is greater than tuple 2\")\n",
    "else :\n",
    "    print(\"3.Tuple 2 is greater than tuple 1\")\n"
   ]
  },
  {
   "cell_type": "markdown",
   "id": "c1376521-092b-4008-828f-130f4cfdf921",
   "metadata": {},
   "source": [
    "### <span style =\"color:green;\">19. Delete a tuple.<span/>\n"
   ]
  },
  {
   "cell_type": "code",
   "execution_count": 111,
   "id": "7ea1e862-2227-4927-9488-ecc2178cff5a",
   "metadata": {},
   "outputs": [
    {
     "ename": "NameError",
     "evalue": "name 'tuple_1' is not defined",
     "output_type": "error",
     "traceback": [
      "\u001b[1;31m---------------------------------------------------------------------------\u001b[0m",
      "\u001b[1;31mNameError\u001b[0m                                 Traceback (most recent call last)",
      "Cell \u001b[1;32mIn[111], line 5\u001b[0m\n\u001b[0;32m      1\u001b[0m tuple_1 \u001b[38;5;241m=\u001b[39m (\u001b[38;5;241m1\u001b[39m,\u001b[38;5;241m2\u001b[39m,\u001b[38;5;241m3\u001b[39m)\n\u001b[0;32m      3\u001b[0m \u001b[38;5;28;01mdel\u001b[39;00m tuple_1\n\u001b[1;32m----> 5\u001b[0m \u001b[38;5;28mprint\u001b[39m(\u001b[38;5;124m\"\u001b[39m\u001b[38;5;124mDeleted tuple:\u001b[39m\u001b[38;5;124m\"\u001b[39m,\u001b[43mtuple_1\u001b[49m)\n",
      "\u001b[1;31mNameError\u001b[0m: name 'tuple_1' is not defined"
     ]
    }
   ],
   "source": [
    "tuple_1 = (1,2,3)\n",
    "\n",
    "del tuple_1\n",
    "\n",
    "print(\"Deleted tuple:\",tuple_1)"
   ]
  },
  {
   "cell_type": "markdown",
   "id": "8f805e6e-6491-42dd-b206-806cc6eb137f",
   "metadata": {},
   "source": [
    "### <span style =\"color:green;\">20. Slice a tuple.<span/>\n"
   ]
  },
  {
   "cell_type": "code",
   "execution_count": 123,
   "id": "728d9a90-2e1d-40c1-ad0e-6278df6f1091",
   "metadata": {},
   "outputs": [
    {
     "name": "stdout",
     "output_type": "stream",
     "text": [
      "Sliced tuple from my_tuple : (10, 14, 18, 22)\n"
     ]
    }
   ],
   "source": [
    "my_tuple=(2,4,6,8,10,12,14,16,18,20,22,24,26,28,30)\n",
    "sliced_tuple = my_tuple[4:11:2]# slicing the tuple from 4th index to 10th index and skipping 2 steps\n",
    "print(\"Sliced tuple from my_tuple :\",sliced_tuple)"
   ]
  },
  {
   "cell_type": "markdown",
   "id": "94712197-af37-499e-bb81-b12673798cf2",
   "metadata": {},
   "source": [
    "### <span style =\"color:green;\">21. the maximum value in a tuple.<span/>\n"
   ]
  },
  {
   "cell_type": "code",
   "execution_count": 124,
   "id": "2549cbf2-451d-4da3-9b3b-dc446591d937",
   "metadata": {},
   "outputs": [
    {
     "name": "stdout",
     "output_type": "stream",
     "text": [
      "Maximum value in the tuple is :  30\n"
     ]
    }
   ],
   "source": [
    "my_tuple=(2,4,6,8,10,12,14,16,18,20,22,24,26,28,30)\n",
    "max_value_in_tuple = max(my_tuple)\n",
    "print(\"Maximum value in the tuple is : \",max_value_in_tuple)"
   ]
  },
  {
   "cell_type": "markdown",
   "id": "bc39982a-61bc-4622-bf05-8fae1fa2b40f",
   "metadata": {},
   "source": [
    "### <span style =\"color:green;\">22. the minimum value in a tuple.<span/>\n"
   ]
  },
  {
   "cell_type": "code",
   "execution_count": 125,
   "id": "fe274730-a438-429b-adbf-7ed703640ff0",
   "metadata": {},
   "outputs": [
    {
     "name": "stdout",
     "output_type": "stream",
     "text": [
      "Minimum value in the tuple is :  2\n"
     ]
    }
   ],
   "source": [
    "my_tuple=(2,4,6,8,10,12,14,16,18,20,22,24,26,28,30)\n",
    "min_value_in_tuple = min(my_tuple)\n",
    "print(\"Minimum value in the tuple is : \",min_value_in_tuple)"
   ]
  },
  {
   "cell_type": "markdown",
   "id": "fc2efd6e-43e6-42ea-8f0c-6af742227693",
   "metadata": {},
   "source": [
    "### <span style =\"color:green;\">23. Convert a string to a tuple of characters.<span/>\n"
   ]
  },
  {
   "cell_type": "code",
   "execution_count": 2,
   "id": "02f2dcd5-c764-48f0-a0dd-52a8e0f0873d",
   "metadata": {},
   "outputs": [
    {
     "name": "stdout",
     "output_type": "stream",
     "text": [
      "The string after converting into tuple : ('a', 's', 'm', 'i', 't', 'a', '@', '1', '2', '3')\n"
     ]
    }
   ],
   "source": [
    "my_string = \"asmita@123\"\n",
    "my_tuple = tuple(my_string)\n",
    "print(\"The string after converting into tuple :\",my_tuple)"
   ]
  },
  {
   "cell_type": "markdown",
   "id": "6cebde85-7e00-4963-96a7-f6c498e12396",
   "metadata": {},
   "source": [
    "### <span style =\"color:green;\">24. Convert a tuple of characters to a string.<span/>\n"
   ]
  },
  {
   "cell_type": "code",
   "execution_count": 14,
   "id": "ba4c9f16-11d5-44e8-acac-566308b982ff",
   "metadata": {},
   "outputs": [
    {
     "name": "stdout",
     "output_type": "stream",
     "text": [
      "<class 'tuple'>\n",
      "<class 'str'>\n",
      "The tuple after converting into string : ('asmita', 'das', 23)\n"
     ]
    }
   ],
   "source": [
    "my_tuple = ('asmita',\"das\",23)\n",
    "my_string = str(my_tuple)\n",
    "print(type(my_tuple))\n",
    "print(type(my_string))\n",
    "print(\"The tuple after converting into string :\",my_string)"
   ]
  },
  {
   "cell_type": "markdown",
   "id": "bd963f4c-f2de-4250-9819-ff20b198255b",
   "metadata": {},
   "source": [
    "### <span style =\"color:green;\"> 25. Create a tuple from multiple data types.<span/>\n"
   ]
  },
  {
   "cell_type": "code",
   "execution_count": 1,
   "id": "989f8864-ada0-489c-862d-0e49d5459b6c",
   "metadata": {},
   "outputs": [
    {
     "name": "stdout",
     "output_type": "stream",
     "text": [
      "('asmita', 2, 2.2, True)\n",
      "<class 'tuple'>\n"
     ]
    }
   ],
   "source": [
    "my_tuple = (\"asmita\",2,2.2,True,)\n",
    "print(my_tuple)\n",
    "print(type(my_tuple))"
   ]
  },
  {
   "cell_type": "markdown",
   "id": "ae61d2f6-1d14-4746-858a-e4a53b660508",
   "metadata": {},
   "source": [
    "### <span style =\"color:green;\"> 26. Check if two tuples are identical.<span/>\n"
   ]
  },
  {
   "cell_type": "code",
   "execution_count": 4,
   "id": "69f6e2e7-695e-407f-8946-5c8f8866c75b",
   "metadata": {},
   "outputs": [
    {
     "name": "stdout",
     "output_type": "stream",
     "text": [
      "Tuple 1 and tuple 2 are identical\n"
     ]
    }
   ],
   "source": [
    "tuple_1 = (2,4,6)\n",
    "tuple_2 = (2,4,6)\n",
    "\n",
    "if tuple_1 == tuple_2:\n",
    "    print(\"Tuple 1 and tuple 2 are identical\")\n",
    "else:\n",
    "    print(\"Tuple 1 and tuple 2 are not identical\")"
   ]
  },
  {
   "cell_type": "markdown",
   "id": "b89bcadf-c39c-480e-84e2-71aecdac4de5",
   "metadata": {},
   "source": [
    "### <span style =\"color:green;\"> 27. Sort the elements of a tuple.<span/>\n"
   ]
  },
  {
   "cell_type": "code",
   "execution_count": 6,
   "id": "3425e66d-9a20-453b-877d-ba96a83d0190",
   "metadata": {},
   "outputs": [
    {
     "name": "stdout",
     "output_type": "stream",
     "text": [
      "(2, 3, 4, 5, 6, 8, 9, 12)\n",
      "<class 'tuple'>\n"
     ]
    }
   ],
   "source": [
    "my_tuple = (2,5,3,4,8,12,6,9)\n",
    "set_tuple = set(my_tuple)\n",
    "sorted_tuple = tuple(set_tuple)\n",
    "print(sorted_tuple)\n",
    "print(type(sorted_tuple))"
   ]
  },
  {
   "cell_type": "markdown",
   "id": "90213c3a-2971-41d8-87a5-b4c9e32c6ac8",
   "metadata": {},
   "source": [
    "### <span style =\"color:green;\"> 28. Convert a tuple of integers to a tuple of strings.<span/>\n"
   ]
  },
  {
   "cell_type": "code",
   "execution_count": 18,
   "id": "f462261a-710f-4cb0-904c-0d4e3a96ba7c",
   "metadata": {},
   "outputs": [
    {
     "name": "stdout",
     "output_type": "stream",
     "text": [
      "Tuple of strings : ('2', '4', '6', '8')\n"
     ]
    }
   ],
   "source": [
    "my_tuple =(2,4,6,8)\n",
    "string_tuple =tuple(str(item) for item in my_tuple)\n",
    "\n",
    "print(\"Tuple of strings :\",string_tuple)\n"
   ]
  },
  {
   "cell_type": "markdown",
   "id": "d6035365-ce53-4e12-9d3e-ce88fbd8921e",
   "metadata": {},
   "source": [
    "### <span style =\"color:green;\"> 29. Convert a tuple of strings to a tuple of integers.<span/>"
   ]
  },
  {
   "cell_type": "code",
   "execution_count": 25,
   "id": "7735bf74-6db5-45b3-972f-7d7a497c7c82",
   "metadata": {},
   "outputs": [
    {
     "name": "stdout",
     "output_type": "stream",
     "text": [
      "(2, 4, 6, 8)\n"
     ]
    }
   ],
   "source": [
    "string_tuple = ('2', '4', '6', '8')\n",
    "\n",
    "integers_tuple =tuple(int(item) for item in string_tuple)\n",
    "\n",
    "print(integers_tuple)\n"
   ]
  },
  {
   "cell_type": "markdown",
   "id": "3e172b7b-07d1-4fcd-bdeb-1be383221fd6",
   "metadata": {},
   "source": [
    "### <span style =\"color:green;\"> 30. Merge two tuples.<span/>"
   ]
  },
  {
   "cell_type": "code",
   "execution_count": 27,
   "id": "21c98a4a-c65a-465c-a5a5-e5c1bcc8de5e",
   "metadata": {},
   "outputs": [
    {
     "name": "stdout",
     "output_type": "stream",
     "text": [
      "Merged tuple : (1, 2, 3, 4, 2, 4, 6, 8)\n"
     ]
    }
   ],
   "source": [
    "tuple_1 = (1,2,3,4)\n",
    "tuple_2 = (2,4,6,8)\n",
    "merged_tuple = tuple_1 + tuple_2 \n",
    "print(\"Merged tuple :\",merged_tuple)"
   ]
  },
  {
   "cell_type": "markdown",
   "id": "0c4edf01-34d4-4d51-9251-52cca558acea",
   "metadata": {},
   "source": [
    "### <span style =\"color:green;\"> 31. Flatten a nested tuple.<span/>"
   ]
  },
  {
   "cell_type": "code",
   "execution_count": 47,
   "id": "e2d2bb4a-2c2e-4767-b661-a5c67255612b",
   "metadata": {},
   "outputs": [
    {
     "name": "stdout",
     "output_type": "stream",
     "text": [
      "The original tuple :  ((2, 4), ((6, 800), (10, 12), (15, 14)), ((16, 18), (13, 24)))\n",
      "The flattened tuple :  (2, 4, 6, 800, 10, 12, 15, 14, 16, 18, 13, 24)\n"
     ]
    }
   ],
   "source": [
    "from functools import reduce\n",
    "\n",
    "def flatten_tuple(nested_tuple):\n",
    "\tdef reducer(acc, val):\n",
    "\t\tif isinstance(val, tuple):\n",
    "\t\t\treturn acc + flatten_tuple(val)\n",
    "\t\telse:\n",
    "\t\t\treturn acc + (val,)\n",
    "\n",
    "\treturn reduce(reducer, nested_tuple,())\n",
    "\n",
    "\n",
    "nested_tuple = ((2,4), ((6, 800), (10, 12), (15, 14)), (((16, 18), (13, 24))))\n",
    "\n",
    "\n",
    "print(\"The original tuple : \" ,(nested_tuple))\n",
    "\n",
    "\n",
    "flatten = flatten_tuple(nested_tuple)\n",
    " \n",
    "print(\"The flattened tuple : \" ,flatten)\n"
   ]
  },
  {
   "cell_type": "markdown",
   "id": "d3bada0e-723e-4ea2-ba0b-4f95f0d08ac4",
   "metadata": {},
   "source": [
    "### <span style =\"color:green;\"> 32. Create a tuple of the first 5 .<span/>"
   ]
  },
  {
   "cell_type": "code",
   "execution_count": 111,
   "id": "a320b98a-8477-4fd2-9d39-8b574454a635",
   "metadata": {},
   "outputs": [
    {
     "name": "stdin",
     "output_type": "stream",
     "text": [
      "Enter the start of range:  2\n",
      "Enter the end of range:  12\n"
     ]
    },
    {
     "name": "stdout",
     "output_type": "stream",
     "text": [
      "The tuple of the first five prime numbers is :  (2, 3, 5, 7, 11)\n"
     ]
    }
   ],
   "source": [
    "start = int(input(\"Enter the start of range: \"))\n",
    "end = int(input(\"Enter the end of range: \"))\n",
    "l = []\n",
    "t =()\n",
    "for num in range(start, end + 1):\n",
    "   if num > 1:\n",
    "       for i in range(2, int(num**0.5) + 1):\n",
    "           if (num % i) == 0:\n",
    "               break\n",
    "       else:\n",
    "           l.append(num)\n",
    "           \n",
    "def convert(l):\n",
    "    \n",
    "    return (*l, )\n",
    " \n",
    "print(\"The tuple of the first five  is : \",convert(l))\n"
   ]
  },
  {
   "cell_type": "markdown",
   "id": "5a9f611f-aaaf-4c22-bf7a-4966d6ff2325",
   "metadata": {},
   "source": [
    "### <span style =\"color:green;\"> 33. Check if a tuple is a palindrome.<span/>"
   ]
  },
  {
   "cell_type": "code",
   "execution_count": 102,
   "id": "9fe3783f-2b72-4acb-9566-62f5baf2b698",
   "metadata": {},
   "outputs": [
    {
     "name": "stdout",
     "output_type": "stream",
     "text": [
      "Yes the tuple is a palindrome\n"
     ]
    }
   ],
   "source": [
    "my_tuple =(1,2,3,3,2,1)\n",
    "if my_tuple == my_tuple[::-1]:\n",
    "    print(\"Yes the tuple is a palindrome\")\n",
    "else:\n",
    "    print(\"No the tuple is not a palindrome\")"
   ]
  },
  {
   "cell_type": "markdown",
   "id": "6e0230c9-7ce9-466f-8b62-0f60f9d878e0",
   "metadata": {},
   "source": [
    "### <span style =\"color:green;\"> 34. Create a tuple of squares of numbers from 1 to 5.<span/>"
   ]
  },
  {
   "cell_type": "code",
   "execution_count": 112,
   "id": "547e70a9-59ec-45bd-ab7a-723bb17f5b8f",
   "metadata": {},
   "outputs": [
    {
     "name": "stdout",
     "output_type": "stream",
     "text": [
      "The square of integers from 1 to 5 is: (1, 4, 9, 16, 25)\n"
     ]
    }
   ],
   "source": [
    "tup = ()\n",
    "for i in range(1,6):\n",
    "    tup = tup + (i**2,)\n",
    "print(\"The square of integers from 1 to 5 is:\" ,tup)"
   ]
  },
  {
   "cell_type": "markdown",
   "id": "18e631e8-001c-4687-a397-a03aa1bbda0c",
   "metadata": {},
   "source": [
    "### <span style =\"color:green;\"> 35. Filter out all even numbers from a tuple.<span/>"
   ]
  },
  {
   "cell_type": "code",
   "execution_count": 121,
   "id": "2121063b-e283-47a1-9177-8a752edfe151",
   "metadata": {},
   "outputs": [
    {
     "name": "stdout",
     "output_type": "stream",
     "text": [
      "Even numbers from the tuple is : (2, 4, 8, 12, 88, 22, 58, 24)\n"
     ]
    }
   ],
   "source": [
    "my_tuple = (2,5,4,3,8,12,45,25,88,22,11,58,24,57)\n",
    "l = []\n",
    "for i in my_tuple:\n",
    "    if i % 2 == 0:\n",
    "        l.append(i)\n",
    "def convert(l):\n",
    "    return (*l,)\n",
    "print(\"Even numbers from the tuple is :\",convert(l))"
   ]
  },
  {
   "cell_type": "markdown",
   "id": "df0eee33-0514-413e-8884-6e4ff3e9249c",
   "metadata": {},
   "source": [
    "### <span style =\"color:green;\"> 36. Multiply all elements in a tuple by 2.<span/>"
   ]
  },
  {
   "cell_type": "code",
   "execution_count": 128,
   "id": "e0b64060-2484-46b1-a5c4-dae6d7849516",
   "metadata": {},
   "outputs": [
    {
     "name": "stdout",
     "output_type": "stream",
     "text": [
      "Elements after multiplying by 2 : (4, 10, 16, 14, 12, 24)\n"
     ]
    }
   ],
   "source": [
    "tup =(2,5,8,7,6,12)\n",
    "l = []\n",
    "for i in tup:\n",
    "    \n",
    "    l.append(i*2)\n",
    "\n",
    "def convert(l):\n",
    "    return (*l, )\n",
    "print (\"Elements after multiplying by 2 :\", convert(l))\n",
    "    "
   ]
  },
  {
   "cell_type": "markdown",
   "id": "c25449d9-21fc-40e6-b32d-8e1f9970c2e7",
   "metadata": {},
   "source": [
    "### <span style =\"color:green;\"> 37. Create a tuple of random numbers.<span/>"
   ]
  },
  {
   "cell_type": "code",
   "execution_count": 2,
   "id": "8d2b84e0-78b8-4c34-9314-7f5728bd9209",
   "metadata": {},
   "outputs": [
    {
     "name": "stdout",
     "output_type": "stream",
     "text": [
      "Tuple of random numbers : (44, 39, 20, 40, 36, 46, 19, 40, 20, 19)\n"
     ]
    }
   ],
   "source": [
    "import random \n",
    "random_num_tuple =tuple(random.randint(1,100) for _ in range(10))\n",
    "print(\"Tuple of random numbers :\" , random_num_tuple)"
   ]
  },
  {
   "cell_type": "markdown",
   "id": "486a61b9-42e1-4e7e-8810-151de5e61efc",
   "metadata": {},
   "source": [
    "### <span style =\"color:green;\"> 38. Check if a tuple is sorted.<span/>"
   ]
  },
  {
   "cell_type": "code",
   "execution_count": 6,
   "id": "dbed66d5-4d71-422e-adb9-2df0837a9b8a",
   "metadata": {},
   "outputs": [
    {
     "name": "stdout",
     "output_type": "stream",
     "text": [
      "Tuple is shorted : True\n"
     ]
    }
   ],
   "source": [
    "def is_sorted(t):\n",
    "    for i in range(1,len(t)):\n",
    "        if t[i] < t[i-1]:\n",
    "            return False\n",
    "    return True\n",
    "t = (1, 2, 3, 5)\n",
    "print(\"Tuple is shorted :\",is_sorted(t))"
   ]
  },
  {
   "cell_type": "markdown",
   "id": "db14a9e4-99e1-4f07-b343-0099144bda83",
   "metadata": {},
   "source": [
    "### <span style =\"color:green;\"> 39. Rotate a tuple to the left by `n` positions.<span/>"
   ]
  },
  {
   "cell_type": "code",
   "execution_count": 8,
   "id": "8a9941b8-76da-40b2-a98a-a866665c3979",
   "metadata": {},
   "outputs": [
    {
     "name": "stdout",
     "output_type": "stream",
     "text": [
      "The originaal tuple : (2, 4, 6, 8, 5)\n",
      "The rotated tuple (6, 8, 5, 2, 4)\n"
     ]
    }
   ],
   "source": [
    "my_tuple = (2,4,6,8,5)\n",
    "n = 2\n",
    "rotated_tuple = my_tuple [n:] + my_tuple [ :n]\n",
    "print(\"The originaal tuple :\",my_tuple)\n",
    "print(\"The rotated tuple\",rotated_tuple)"
   ]
  },
  {
   "cell_type": "markdown",
   "id": "ad7af2f8-c25a-4ade-9ad3-133c8f3649a7",
   "metadata": {},
   "source": [
    "### <span style =\"color:green;\"> 40. Rotate a tuple to the right by `n` positions.<span/>"
   ]
  },
  {
   "cell_type": "code",
   "execution_count": 12,
   "id": "f9a3b504-6616-4b7c-8dec-fbcda236c551",
   "metadata": {},
   "outputs": [
    {
     "name": "stdout",
     "output_type": "stream",
     "text": [
      "The originaal tuple : (2, 4, 6, 8, 5)\n",
      "The rotated tuple (8, 5, 2, 4, 6)\n"
     ]
    }
   ],
   "source": [
    "my_tuple = (2,4,6,8,5)\n",
    "n = 2\n",
    "rotated_tuple = my_tuple [-n:] + my_tuple [ :-n]\n",
    "print(\"The originaal tuple :\",my_tuple)\n",
    "print(\"The rotated tuple\",rotated_tuple)"
   ]
  },
  {
   "cell_type": "markdown",
   "id": "754d3a36-698c-4c52-af73-315b383c9697",
   "metadata": {},
   "source": [
    "### <span style =\"color:green;\"> 41. Create a tuple of the first 5 Fibonacci numbers.<span/>"
   ]
  },
  {
   "cell_type": "code",
   "execution_count": 14,
   "id": "f85b1a3e-7708-4cd5-8437-60bffd27b79a",
   "metadata": {},
   "outputs": [
    {
     "name": "stdout",
     "output_type": "stream",
     "text": [
      " Tuple of the first 5 Fibonacci numbers are: (0, 1, 1, 2, 3)\n"
     ]
    }
   ],
   "source": [
    "lst = [0,1]\n",
    "a = 0\n",
    "b = 1\n",
    "c = 0\n",
    "\n",
    "for i in range(3):\n",
    "    c = a + b\n",
    "    a = b\n",
    "    b = c\n",
    "    lst.append(c)\n",
    "\n",
    "tup = tuple(lst)\n",
    "\n",
    "print(\" Tuple of the first 5 Fibonacci numbers are:\", tup)"
   ]
  },
  {
   "cell_type": "markdown",
   "id": "d870b7fb-b352-44d3-8ca6-b127b640423c",
   "metadata": {},
   "source": [
    "### <span style =\"color:green;\"> 42. Create a tuple from user input.<span/>"
   ]
  },
  {
   "cell_type": "code",
   "execution_count": 16,
   "id": "8a830987-32f1-4977-b597-9bfbd6036cd6",
   "metadata": {},
   "outputs": [
    {
     "name": "stdin",
     "output_type": "stream",
     "text": [
      "Enter elements a,s,m,i,t,a, 2,0,2,2\n"
     ]
    },
    {
     "name": "stdout",
     "output_type": "stream",
     "text": [
      "User input tuple : ['a', 's', 'm', 'i', 't', 'a', ' 2', '0', '2', '2']\n"
     ]
    }
   ],
   "source": [
    "elements = input(\"Enter elements\")\n",
    "user_input_tuple = elements.split(\",\")\n",
    "print(\"User input tuple :\",user_input_tuple)"
   ]
  },
  {
   "cell_type": "markdown",
   "id": "6884f415-d761-478c-a4bc-4052b5406754",
   "metadata": {},
   "source": [
    "### <span style =\"color:green;\"> 43. Swap two elements in a tuple.<span/>"
   ]
  },
  {
   "cell_type": "code",
   "execution_count": 17,
   "id": "6684f69d-833b-472e-a562-4a58b5b98932",
   "metadata": {},
   "outputs": [
    {
     "name": "stdout",
     "output_type": "stream",
     "text": [
      "Swspped tuple: (2, 3, 8, 6, 7, 4)\n"
     ]
    }
   ],
   "source": [
    "my_tuple = (2,3,4,6,7,8)\n",
    "lst =list(my_tuple)\n",
    "lst [2],lst[5] =lst[5],lst[2]\n",
    "swapped_tuple = tuple(lst)\n",
    "print(\"Swspped tuple:\",swapped_tuple)"
   ]
  },
  {
   "cell_type": "markdown",
   "id": "d67f254d-8efe-48c5-b0d1-7b1f5fe718a6",
   "metadata": {},
   "source": [
    "### <span style =\"color:green;\"> 44. Reverse the elements of a tuple.<span/>"
   ]
  },
  {
   "cell_type": "code",
   "execution_count": 19,
   "id": "904f5005-2d4b-477c-a947-b3524da769e3",
   "metadata": {},
   "outputs": [
    {
     "name": "stdout",
     "output_type": "stream",
     "text": [
      "Original Tuple : (2, 3, 4, 6, 7, 8)\n",
      "reversed_tuple : (8, 7, 6, 4, 3, 2)\n"
     ]
    }
   ],
   "source": [
    "my_tuple = (2,3,4,6,7,8)\n",
    "reversed_tuple = my_tuple [::-1]\n",
    "print(\"Original Tuple :\",my_tuple)\n",
    "print (\"reversed_tuple :\",reversed_tuple)"
   ]
  },
  {
   "cell_type": "markdown",
   "id": "affd3aab-5dfd-4edd-b10e-980cd6e563d1",
   "metadata": {},
   "source": [
    "### <span style =\"color:green;\"> 45. Create a tuple of the first `n` powers of 2.<span/>"
   ]
  },
  {
   "cell_type": "code",
   "execution_count": 20,
   "id": "222c1b1c-e058-49f4-a9a6-71bae5f71ebb",
   "metadata": {},
   "outputs": [
    {
     "name": "stdout",
     "output_type": "stream",
     "text": [
      "Tuple of the first 5 powers of 2: (1, 2, 4, 8, 16)\n"
     ]
    }
   ],
   "source": [
    "powers_of_2_tuple = tuple(2 ** i for i in range(5))\n",
    "\n",
    "# Print the tuple of powers of 2\n",
    "print(\"Tuple of the first\", 5, \"powers of 2:\", powers_of_2_tuple)"
   ]
  },
  {
   "cell_type": "markdown",
   "id": "9a4e6d10-0e7f-467a-bed0-c7dd32af6095",
   "metadata": {},
   "source": [
    "### <span style =\"color:green;\"> 46. the longest string in a tuple of strings.<span/>"
   ]
  },
  {
   "cell_type": "code",
   "execution_count": 23,
   "id": "d5cd8e22-4992-4d23-b15a-d2fbfcad3a23",
   "metadata": {},
   "outputs": [
    {
     "name": "stdout",
     "output_type": "stream",
     "text": [
      "Longest string in the tuple is : asmita\n"
     ]
    }
   ],
   "source": [
    "string_tuple = (\"asmita\",\"das\",\"tuple\")\n",
    "longest_string = max(string_tuple,key= len)\n",
    "print(\"Longest string in the tuple is :\",longest_string)"
   ]
  },
  {
   "cell_type": "markdown",
   "id": "226397bb-3773-4b08-bc89-0c70c0223dc7",
   "metadata": {},
   "source": [
    "### <span style =\"color:green;\"> 47. the shortest string in a tuple of strings.<span/>"
   ]
  },
  {
   "cell_type": "code",
   "execution_count": 24,
   "id": "1249bc06-9d6f-4b00-b6f7-4e4d68191b13",
   "metadata": {},
   "outputs": [
    {
     "name": "stdout",
     "output_type": "stream",
     "text": [
      "shortest string in the tuple is : das\n"
     ]
    }
   ],
   "source": [
    "string_tuple = (\"asmita\",\"das\",\"tuple\")\n",
    "shortest_string = min(string_tuple,key= len)\n",
    "print(\"shortest string in the tuple is :\",shortest_string)"
   ]
  },
  {
   "cell_type": "markdown",
   "id": "dd909dcc-cb08-444c-a4fc-88ab88b7b3d0",
   "metadata": {},
   "source": [
    "### <span style =\"color:green;\"> 48. Create a tuple of the first `n` triangular numbers.<span/>"
   ]
  },
  {
   "cell_type": "code",
   "execution_count": 39,
   "id": "a443a11a-7c48-4703-888c-5a2d2b90d50e",
   "metadata": {},
   "outputs": [
    {
     "name": "stdout",
     "output_type": "stream",
     "text": [
      "Tuple of the first 5 triangular numbers: (1, 3, 6, 10, 15)\n"
     ]
    }
   ],
   "source": [
    "n = 5\n",
    "triangular_sequence = tuple((i * (i+1))// 2 for i in range(1,n+1))\n",
    "print(\"Tuple of the first\", n, \"triangular numbers:\", triangular_sequence)"
   ]
  },
  {
   "cell_type": "markdown",
   "id": "e94cb744-8f2a-4b32-9542-b47a8ffec85a",
   "metadata": {},
   "source": [
    "### <span style =\"color:green;\"> 49. Check if a tuple contains another tuple as a subsequence.<span/>"
   ]
  },
  {
   "cell_type": "code",
   "execution_count": 43,
   "id": "2dbaf7e5-5d98-476e-ba17-c154d2c64fd0",
   "metadata": {},
   "outputs": [
    {
     "name": "stdout",
     "output_type": "stream",
     "text": [
      "Tuple contains another tuple as a subsequence: True\n"
     ]
    }
   ],
   "source": [
    "main_tuple = (4, 2, 3, 4, 6, 5, 7, 8, 9)\n",
    "sub_tuple = (3,4,5)\n",
    "res =  set(sub_tuple).issubset(main_tuple)\n",
    "print(\"Tuple contains another tuple as a subsequence:\",res)"
   ]
  },
  {
   "cell_type": "markdown",
   "id": "65d3ac60-b2ff-414c-8279-f210c0714969",
   "metadata": {},
   "source": [
    "### <span style =\"color:green;\"> 50. Create a tuple of alternating 1s and 0s of length `n`.<span/>"
   ]
  },
  {
   "cell_type": "code",
   "execution_count": null,
   "id": "03d1ffae-5a4b-46d8-8da8-4d73f5687101",
   "metadata": {},
   "outputs": [],
   "source": [
    "n = 10\n",
    "alternating_tuple = tuple(i % 2 for i in range(n))\n",
    "\n",
    "# Print the tuple of alternating 1s and 0s\n",
    "print(\"Tuple of alternating 1s and 0s:\", alternating_tuple)"
   ]
  },
  {
   "cell_type": "markdown",
   "id": "7f1a2ee0-ee8e-4eee-9eec-6adc9d9cb2fd",
   "metadata": {},
   "source": [
    "# <span style=\"color: blue;\">TOPIC: Set Based Assignment Problem</span>"
   ]
  },
  {
   "cell_type": "markdown",
   "id": "7994c032-7cfc-4efa-96c8-84bf7180101e",
   "metadata": {},
   "source": [
    "### <span style =\"color:green;\">1. Create a set with integers from 1 to 5.<span/>"
   ]
  },
  {
   "cell_type": "code",
   "execution_count": 60,
   "id": "b1e7b9e9-023d-4b70-88cd-e3aca1c97c4e",
   "metadata": {},
   "outputs": [
    {
     "name": "stdout",
     "output_type": "stream",
     "text": [
      "{1, 2, 3, 4, 5}\n"
     ]
    }
   ],
   "source": [
    "n = 6\n",
    "my_set = set(range(n))\n",
    "\n",
    "my_set.remove(0)# removing the first element 0 \n",
    "\n",
    "print(my_set)"
   ]
  },
  {
   "cell_type": "markdown",
   "id": "b803062b-e76a-4085-beb5-251a175f6bb2",
   "metadata": {},
   "source": [
    "### <span style =\"color:green;\">2. Add an element to a set.<span/>"
   ]
  },
  {
   "cell_type": "code",
   "execution_count": 65,
   "id": "4155a98d-be4d-483b-9c02-7ebbaa470883",
   "metadata": {},
   "outputs": [
    {
     "name": "stdout",
     "output_type": "stream",
     "text": [
      "{1, 2, 3, 4, 5}\n",
      "New set after adding the element:  {1, 2, 3, 4, 5, 8}\n"
     ]
    }
   ],
   "source": [
    "my_set = {1, 2, 3, 4, 5}\n",
    "print(my_set)\n",
    "my_set.add(8)\n",
    "print(\"New set after adding the element: \",my_set)"
   ]
  },
  {
   "cell_type": "markdown",
   "id": "6dc08f12-b555-4bb7-92d2-732479244dd7",
   "metadata": {},
   "source": [
    "### <span style =\"color:green;\">3. Remove an element from a set.<span/>"
   ]
  },
  {
   "cell_type": "code",
   "execution_count": 68,
   "id": "558fabea-fc8d-43c3-9ffb-284cdf3b5de6",
   "metadata": {},
   "outputs": [
    {
     "name": "stdout",
     "output_type": "stream",
     "text": [
      "Old set : {1, 2, 3, 4, 5, 8}\n",
      "New set after removing element:  {1, 2, 3, 4, 5}\n"
     ]
    }
   ],
   "source": [
    "my_set = {1, 2, 3, 4, 5, 8}\n",
    "print(\"Old set :\",my_set)\n",
    "my_set.remove(8)\n",
    "print(\"New set after removing element: \",my_set)"
   ]
  },
  {
   "cell_type": "markdown",
   "id": "519fb893-9795-453a-9278-c099abf611c0",
   "metadata": {},
   "source": [
    "### <span style =\"color:green;\">4. Check if an element exists in a set.<span/>"
   ]
  },
  {
   "cell_type": "code",
   "execution_count": 1,
   "id": "f1ce3834-103b-4ffd-ad02-89fd739b4e56",
   "metadata": {},
   "outputs": [
    {
     "name": "stdin",
     "output_type": "stream",
     "text": [
      "Enter the element to check : 8\n"
     ]
    },
    {
     "name": "stdout",
     "output_type": "stream",
     "text": [
      "The element exist in the set : True\n"
     ]
    }
   ],
   "source": [
    "def check_element(my_set):\n",
    "    element_to_check= int(input(\"Enter the element to check :\"))\n",
    "    if element_to_check in my_set:\n",
    "        return True\n",
    "    else:\n",
    "        return False\n",
    "my_set = {1, 2, 3, 4, 5, 8}\n",
    "print(\"The element exist in the set :\",check_element(my_set))"
   ]
  },
  {
   "cell_type": "markdown",
   "id": "f87daba6-9120-48a4-9e4f-f7d023bb8e11",
   "metadata": {},
   "source": [
    "### <span style =\"color:green;\">5. Find the length of a set without using the `len()` function.<span/>"
   ]
  },
  {
   "cell_type": "code",
   "execution_count": 83,
   "id": "de804c7c-4281-47af-a8eb-9a738c994eee",
   "metadata": {},
   "outputs": [
    {
     "name": "stdout",
     "output_type": "stream",
     "text": [
      "{1, 2, 3, 4, 5, 8}\n",
      "Lenth of the set : 6\n"
     ]
    }
   ],
   "source": [
    "set_lenth = 0\n",
    "my_set = {1, 2, 3, 4, 5, 8}\n",
    "for i in my_set:\n",
    "    set_lenth+=1\n",
    "print(my_set)\n",
    "print(\"Lenth of the set :\",set_lenth)"
   ]
  },
  {
   "cell_type": "markdown",
   "id": "bfab7684-4d91-48d0-b1d5-9066140fb7ba",
   "metadata": {},
   "source": [
    "### <span style =\"color:green;\">6. Clear all elements from a set.<span/>"
   ]
  },
  {
   "cell_type": "code",
   "execution_count": 86,
   "id": "dd8e8534-2332-4e5a-831d-1b64f66c9673",
   "metadata": {},
   "outputs": [
    {
     "name": "stdout",
     "output_type": "stream",
     "text": [
      "Original set:  {1, 2, 3, 4, 5, 8}\n",
      "The set after clear all the elements:  set()\n"
     ]
    }
   ],
   "source": [
    "my_set = {1, 2, 3, 4, 5, 8}\n",
    "print(\"Original set: \",my_set)\n",
    "my_set.clear()\n",
    "print(\"The set after clear all the elements: \",my_set)"
   ]
  },
  {
   "cell_type": "markdown",
   "id": "312387fc-cd21-4460-8fdd-391e4f39de7b",
   "metadata": {},
   "source": [
    "### <span style =\"color:green;\">7. Create a set of even numbers from 1 to 10.<span/>\n"
   ]
  },
  {
   "cell_type": "code",
   "execution_count": 96,
   "id": "3fa98f42-8e83-4232-acbd-94e36008e7b4",
   "metadata": {},
   "outputs": [
    {
     "name": "stdout",
     "output_type": "stream",
     "text": [
      "Set of even numbers from 1 to 10:  {2, 4, 6, 8, 10}\n"
     ]
    }
   ],
   "source": [
    "empty_set = set()\n",
    "\n",
    "for i in range (1,11):\n",
    "    \n",
    "    if i %2 == 0:\n",
    "        empty_set.add(i)\n",
    "        \n",
    "        even_num_set = empty_set\n",
    "\n",
    "print(\"Set of even numbers from 1 to 10: \",even_num_set)"
   ]
  },
  {
   "cell_type": "markdown",
   "id": "ee1dc642-9837-4ccd-affe-8076b72edcd8",
   "metadata": {},
   "source": [
    "### <span style =\"color:green;\">8. Create a set of odd numbers from 1 to 10.<span/>\n"
   ]
  },
  {
   "cell_type": "code",
   "execution_count": 97,
   "id": "ec264e07-b7d8-480f-93c1-f4706dfc73ce",
   "metadata": {},
   "outputs": [
    {
     "name": "stdout",
     "output_type": "stream",
     "text": [
      "Set of odd numbers from 1 to 10:  {1, 3, 5, 7, 9}\n"
     ]
    }
   ],
   "source": [
    "empty_set = set()\n",
    "\n",
    "for i in range (1,11):\n",
    "    \n",
    "    if i %2 != 0:\n",
    "        empty_set.add(i)\n",
    "        \n",
    "        odd_num_set = empty_set\n",
    "\n",
    "print(\"Set of odd numbers from 1 to 10: \",odd_num_set)"
   ]
  },
  {
   "cell_type": "markdown",
   "id": "a0ebec6c-9186-42df-a2a6-68d102cba072",
   "metadata": {},
   "source": [
    "### <span style =\"color:green;\">9. Find the union of two sets.<span/>\n"
   ]
  },
  {
   "cell_type": "code",
   "execution_count": 98,
   "id": "bb990546-afcd-4400-a063-7d79fb2bc3f3",
   "metadata": {},
   "outputs": [
    {
     "name": "stdout",
     "output_type": "stream",
     "text": [
      "Set 1 : {1, 2, 3, 4, 5, 6}\n",
      "Set 2 : {5, 6, 7, 8, 9, 10}\n",
      "Union of set 1 and set 2 : {1, 2, 3, 4, 5, 6, 7, 8, 9, 10}\n"
     ]
    }
   ],
   "source": [
    "set_1 = {1,2,3,4,5,6}\n",
    "set_2 = {5,6,7,8,9,10}\n",
    "union_set = set_1.union(set_2)\n",
    "print(\"Set 1 :\",set_1)\n",
    "print(\"Set 2 :\",set_2)\n",
    "print(\"Union of set 1 and set 2 :\",union_set)\n"
   ]
  },
  {
   "cell_type": "markdown",
   "id": "b66b1a83-ba10-476f-b5f6-ff45dc8df33d",
   "metadata": {},
   "source": [
    "### <span style =\"color:green;\">10. Find the intersection of two sets.<span/>\n"
   ]
  },
  {
   "cell_type": "code",
   "execution_count": 99,
   "id": "943898d9-b272-4b61-9579-c4df7313c739",
   "metadata": {},
   "outputs": [
    {
     "name": "stdout",
     "output_type": "stream",
     "text": [
      "Set 1 : {1, 2, 3, 4, 5, 6}\n",
      "Set 2 : {5, 6, 7, 8, 9, 10}\n",
      "Intersection  of set 1 and set 2 : {5, 6}\n"
     ]
    }
   ],
   "source": [
    "set_1 = {1,2,3,4,5,6}\n",
    "set_2 = {5,6,7,8,9,10}\n",
    "intersection_set = set_1.intersection(set_2)\n",
    "print(\"Set 1 :\",set_1)\n",
    "print(\"Set 2 :\",set_2)\n",
    "print(\"Intersection  of set 1 and set 2 :\",intersection_set)\n"
   ]
  },
  {
   "cell_type": "markdown",
   "id": "535e4b29-f6ee-4b11-8a0e-7f37582bb00d",
   "metadata": {},
   "source": [
    "### <span style =\"color:green;\">11. Find the difference between two sets.<span/>\n"
   ]
  },
  {
   "cell_type": "code",
   "execution_count": 101,
   "id": "4029582e-c7d1-4a64-92fd-2fc6955fd2fa",
   "metadata": {},
   "outputs": [
    {
     "name": "stdout",
     "output_type": "stream",
     "text": [
      "Set 1 : {1, 2, 3, 4, 5, 6}\n",
      "Set 2 : {5, 6, 7, 8, 9, 10}\n",
      " Difference of set 1 and set 2 : {1, 2, 3, 4}\n"
     ]
    }
   ],
   "source": [
    "set_1 = {1,2,3,4,5,6}\n",
    "set_2 = {5,6,7,8,9,10}\n",
    "difference_set = set_1.difference(set_2)\n",
    "print(\"Set 1 :\",set_1)\n",
    "print(\"Set 2 :\",set_2)\n",
    "print(\" Difference of set 1 and set 2 :\",difference_set)\n"
   ]
  },
  {
   "cell_type": "markdown",
   "id": "6774f9ae-961d-460a-b291-da573dd288b7",
   "metadata": {},
   "source": [
    "### <span style =\"color:green;\">12. Check if a set is a subset of another set.<span/>\n"
   ]
  },
  {
   "cell_type": "code",
   "execution_count": 104,
   "id": "110b6a19-f4d9-4ce9-a93a-7e6dd62405dc",
   "metadata": {},
   "outputs": [
    {
     "name": "stdout",
     "output_type": "stream",
     "text": [
      "The set is subset of another set : True\n"
     ]
    }
   ],
   "source": [
    "def is_subset(my_set):\n",
    "    check_subset = {2,3,4}\n",
    "    if check_subset.issubset(my_set):\n",
    "        return True\n",
    "    else :\n",
    "        return False\n",
    "my_set = {1,2,3,4,5,6}\n",
    "print(\"The set is subset of another set :\",is_subset(my_set))"
   ]
  },
  {
   "cell_type": "markdown",
   "id": "d0ac16ad-6a84-4f6b-a7ec-6aeeaa172315",
   "metadata": {},
   "source": [
    "### <span style =\"color:green;\">13. Check if a set is a superset of another set.<span/>\n"
   ]
  },
  {
   "cell_type": "code",
   "execution_count": 11,
   "id": "28fc10e5-e6b0-41a6-bdd8-c2f62ab9dbaf",
   "metadata": {},
   "outputs": [
    {
     "name": "stdout",
     "output_type": "stream",
     "text": [
      "The set is superset of another set : True\n"
     ]
    }
   ],
   "source": [
    "def is_superset(my_set):\n",
    "    check_superset = {1,3,5}\n",
    "    if my_set.issuperset(check_superset):\n",
    "        return True\n",
    "    else :\n",
    "        return False\n",
    "my_set = {1,2,3,4,5,6}\n",
    "print(\"The set is superset of another set :\",is_superset(my_set))"
   ]
  },
  {
   "cell_type": "markdown",
   "id": "155c8868-91d3-4030-ac53-4ed9b3a29b3e",
   "metadata": {},
   "source": [
    "### <span style =\"color:green;\">14. Create a set from a list.<span/>\n"
   ]
  },
  {
   "cell_type": "code",
   "execution_count": 13,
   "id": "317e74f7-b810-4141-a532-f9f63b3ac953",
   "metadata": {},
   "outputs": [
    {
     "name": "stdout",
     "output_type": "stream",
     "text": [
      "List:  [1, 4, 6, 2, 8, 5, 7, 9, 3]\n",
      "The list after converting into a set : {1, 2, 3, 4, 5, 6, 7, 8, 9}\n"
     ]
    }
   ],
   "source": [
    "my_list = [1,4,6,2,8,5,7,9,3]\n",
    "my_set = set(my_list)\n",
    "print(\"List: \",my_list)\n",
    "print(\"The list after converting into a set :\",my_set)"
   ]
  },
  {
   "cell_type": "markdown",
   "id": "2b471dcc-d503-4c28-a51a-71b6bddb6e75",
   "metadata": {},
   "source": [
    "### <span style =\"color:green;\">15. Convert a set to a list.<span/>\n"
   ]
  },
  {
   "cell_type": "code",
   "execution_count": 17,
   "id": "f5067824-ff88-40af-849d-b7b4f2ecb4e0",
   "metadata": {},
   "outputs": [
    {
     "name": "stdout",
     "output_type": "stream",
     "text": [
      "Original set :  {2, 3, 4, 5, 6, 7, 8, 9}\n",
      "The set after converting into a list :  [2, 3, 4, 5, 6, 7, 8, 9]\n"
     ]
    }
   ],
   "source": [
    "my_set = {2,5,6,3,4,8,7,9}\n",
    "my_list = list(my_set)\n",
    "print(\"Original set : \",my_set)\n",
    "print(\"The set after converting into a list : \",my_list)"
   ]
  },
  {
   "cell_type": "markdown",
   "id": "d6daeb7b-51f4-4f1e-b7f2-68c81213fda7",
   "metadata": {},
   "source": [
    "### <span style =\"color:green;\">16. Remove a random element from a set.<span/>\n"
   ]
  },
  {
   "cell_type": "code",
   "execution_count": 23,
   "id": "223ba2d7-33d0-47da-a028-6935cdee498a",
   "metadata": {},
   "outputs": [
    {
     "name": "stdout",
     "output_type": "stream",
     "text": [
      "Original set: {2, 3, 4, 5, 6, 7, 8, 9}\n",
      "Updated set after removing 2 : {3, 4, 5, 6, 7, 8, 9}\n"
     ]
    }
   ],
   "source": [
    "import random\n",
    "my_set = {2, 3, 4, 5, 6, 7, 8, 9}\n",
    "\n",
    "print(\"Original set:\", my_set)\n",
    "\n",
    "random_element = random.choice(list(my_set))\n",
    "\n",
    "my_set.remove(random_element)\n",
    "\n",
    "print(\"Updated set after removing\", random_element, \":\", my_set)"
   ]
  },
  {
   "cell_type": "markdown",
   "id": "632f2de6-8d4f-48fb-b6ff-2242f99d028a",
   "metadata": {},
   "source": [
    "### <span style =\"color:green;\">17. Pop an element from a set.<span/>\n"
   ]
  },
  {
   "cell_type": "code",
   "execution_count": 27,
   "id": "4bb4b000-b961-4270-b8e7-be3e06cb2aba",
   "metadata": {},
   "outputs": [
    {
     "name": "stdout",
     "output_type": "stream",
     "text": [
      "Original set :  {2, 3, 4, 5, 6, 7, 8, 9}\n",
      "The popped element is : 2\n",
      "The set after popping an element {3, 4, 5, 6, 7, 8, 9}\n"
     ]
    }
   ],
   "source": [
    "my_set = {2, 3, 4, 5, 6, 7, 8, 9}\n",
    "print(\"Original set : \",my_set)\n",
    "popped_element = my_set.pop()\n",
    "print(\"The popped element is :\",popped_element)\n",
    "print(\"The set after popping an element\",my_set)"
   ]
  },
  {
   "cell_type": "markdown",
   "id": "691e5ff5-9f82-45cf-a5e2-75bf5df7899b",
   "metadata": {},
   "source": [
    "### <span style =\"color:green;\">18. Check if two sets have no elements in common.<span/>\n"
   ]
  },
  {
   "cell_type": "code",
   "execution_count": 47,
   "id": "8e7f9326-432b-4330-aa41-8b9c46ecff78",
   "metadata": {},
   "outputs": [
    {
     "name": "stdout",
     "output_type": "stream",
     "text": [
      "The two sets  have no common elements.\n"
     ]
    }
   ],
   "source": [
    "set_1 = {1,2,3,4,5}\n",
    "set_2 = {10,9,8,7,6}\n",
    "common_elements =  set_1.intersection(set_2)\n",
    "if common_elements:\n",
    "    print(\"The two sets have common elements :\",common_elements)\n",
    "else:\n",
    "    print(\"The two sets  have no common elements.\")"
   ]
  },
  {
   "cell_type": "markdown",
   "id": "86ae855b-2b12-4354-9e50-47bdcc4dcd87",
   "metadata": {},
   "source": [
    "### <span style =\"color:green;\">19. Find the symmetric difference between two sets.<span/>\n"
   ]
  },
  {
   "cell_type": "code",
   "execution_count": 53,
   "id": "c3977c18-6349-4387-bebc-f0bf0959151a",
   "metadata": {},
   "outputs": [
    {
     "name": "stdout",
     "output_type": "stream",
     "text": [
      "Symmetric difference : {1, 2, 3, 6, 7, 8}\n"
     ]
    }
   ],
   "source": [
    "set_1 = {1,2,3,4,5}\n",
    "set_2 = {4,5,6,7,8}\n",
    "symmetric_difference = set_1.symmetric_difference(set_2)\n",
    "\n",
    "print(\"Symmetric difference :\",symmetric_difference)"
   ]
  },
  {
   "cell_type": "markdown",
   "id": "0ec761fc-2f17-4991-8730-52684da374c7",
   "metadata": {},
   "source": [
    "### <span style =\"color:green;\">20. Update a set with elements from another set.<span/>\n"
   ]
  },
  {
   "cell_type": "code",
   "execution_count": 6,
   "id": "7b1d544c-baa8-402d-bbc5-4b3ed0f49937",
   "metadata": {},
   "outputs": [
    {
     "name": "stdout",
     "output_type": "stream",
     "text": [
      "Set 1: {1, 2, 3, 4}\n",
      "Set 2: {8, 5, 6, 7}\n",
      "Updated set : {1, 2, 3, 4, 5, 6, 7, 8}\n"
     ]
    }
   ],
   "source": [
    "set_1 = {1,2,3,4}\n",
    "set_2 = {5,7,6,8}\n",
    "print(\"Set 1:\" ,set_1)\n",
    "print(\"Set 2:\" ,set_2)\n",
    "set_1.update(set_2)\n",
    "print(\"Updated set :\",set_1)\n"
   ]
  },
  {
   "cell_type": "markdown",
   "id": "e994ac9a-c5ad-44c5-99dc-92d1dc39e1fa",
   "metadata": {},
   "source": [
    "### <span style =\"color:green;\">21. Create a set of the first 5 prime numbers.<span/>\n"
   ]
  },
  {
   "cell_type": "code",
   "execution_count": 27,
   "id": "296fd603-2c94-476b-8ca1-636ead70e648",
   "metadata": {},
   "outputs": [],
   "source": [
    "lower = 1\n",
    "upper = 19\n",
    "prime_set = set()\n",
    "\n",
    "for num in range(lower, upper ):\n",
    "   if num > 1:\n",
    "       for i in range(2, num):\n",
    "           if (num % i) == 0:\n",
    "               break\n",
    "       else:\n",
    "           prime_set.add(num)\n",
    "while len(prime_set) <5 :print(prime_Set)\n",
    "\n",
    "#print(\"Set of first five prime numbers :\",prime_set)"
   ]
  },
  {
   "cell_type": "markdown",
   "id": "20ce4a6c-e395-41eb-9e2d-1e0217b2ed9e",
   "metadata": {},
   "source": [
    "### <span style =\"color:green;\">22. Check if two sets are identical.<span/>\n"
   ]
  },
  {
   "cell_type": "code",
   "execution_count": 3,
   "id": "40234166-27d0-49fc-b3f1-25687f2dcdba",
   "metadata": {},
   "outputs": [
    {
     "name": "stdout",
     "output_type": "stream",
     "text": [
      "Set 1 and Set 2 are not identical\n"
     ]
    }
   ],
   "source": [
    "set_1 = {1,2,3,4}\n",
    "set_2 = {4,3,2,5}\n",
    "if set_1 == set_2 :\n",
    "    print(\"Set 1 and Set 2 are identical\")\n",
    "else :\n",
    "    print (\"Set 1 and Set 2 are not identical\")"
   ]
  },
  {
   "cell_type": "markdown",
   "id": "ee47efcc-02a8-4ed9-bcfe-bb2e6e9819dd",
   "metadata": {},
   "source": [
    "### <span style =\"color:green;\">23. Create a frozen set.<span/>\n"
   ]
  },
  {
   "cell_type": "code",
   "execution_count": 4,
   "id": "443b680f-4cfc-4692-8deb-c96dd94275e0",
   "metadata": {},
   "outputs": [
    {
     "name": "stdout",
     "output_type": "stream",
     "text": [
      "Frozen set : frozenset({2, 3, 4, 5, 6, 8})\n"
     ]
    }
   ],
   "source": [
    "lst = [2,4,3,6,8,5]\n",
    "frozen_set = frozenset(lst)\n",
    "print(\"Frozen set :\",frozen_set)"
   ]
  },
  {
   "cell_type": "markdown",
   "id": "eefaada1-d6b3-4329-a811-d821889b2432",
   "metadata": {},
   "source": [
    "### <span style =\"color:green;\">24. Check if a set is disjoint with another set.<span/>\n"
   ]
  },
  {
   "cell_type": "code",
   "execution_count": 12,
   "id": "b499d97f-e969-4842-8c57-e1eaba68f511",
   "metadata": {},
   "outputs": [
    {
     "name": "stdout",
     "output_type": "stream",
     "text": [
      "set 1  is disjoint with set 2 : False\n"
     ]
    }
   ],
   "source": [
    "set_1 = {1,2,3,4}\n",
    "set_2 = {4,7,6,5}\n",
    "check_disjoint = set_1.isdisjoint(set_2)\n",
    "print(\"set 1  is disjoint with set 2 :\",check_disjoint)"
   ]
  },
  {
   "cell_type": "markdown",
   "id": "e5962921-49d2-480f-8051-ee1918f960d9",
   "metadata": {},
   "source": [
    "### <span style =\"color:green;\">25. Create a set of squares of numbers from 1 to 5.<span/>\n"
   ]
  },
  {
   "cell_type": "code",
   "execution_count": 14,
   "id": "d569f236-a1f1-486c-aa49-ac1858fb1f74",
   "metadata": {},
   "outputs": [
    {
     "name": "stdout",
     "output_type": "stream",
     "text": [
      "Set of squares of numbers from 1 to 5:  {1, 4, 9, 16, 25}\n"
     ]
    }
   ],
   "source": [
    "my_set = set()\n",
    "for i in range(1,6):\n",
    "    i = i**2\n",
    "    my_set.add(i)\n",
    "print(\"Set of squares of numbers from 1 to 5: \",my_set)"
   ]
  },
  {
   "cell_type": "markdown",
   "id": "12d2d0ce-8cb4-47b0-9ead-8c3b79b2d9e7",
   "metadata": {},
   "source": [
    "### <span style =\"color:green;\">26. Filter out all even numbers from a set.<span/>\n"
   ]
  },
  {
   "cell_type": "code",
   "execution_count": 24,
   "id": "b55f712c-a086-4ba4-a025-bfb6932bf114",
   "metadata": {},
   "outputs": [
    {
     "name": "stdout",
     "output_type": "stream",
     "text": [
      "Original set : {2, 4, 6, 8, 11, 12, 13, 20}\n",
      "All even numbers from the original set:  {2, 4, 6, 8, 12, 20}\n"
     ]
    }
   ],
   "source": [
    "my_set = {2,4,6,8,11,13,12,20}\n",
    "print(\"Original set :\",my_set)\n",
    "even_num_set = set()\n",
    "for i in my_set :\n",
    "    if i %2 == 0:\n",
    "        even_num_set.add(i)\n",
    "\n",
    "print(\"All even numbers from the original set: \",even_num_set)"
   ]
  },
  {
   "cell_type": "markdown",
   "id": "c8be7220-8a44-45d8-a847-db6b6b3ecd93",
   "metadata": {},
   "source": [
    "### <span style =\"color:green;\">27. Multiply all elements in a set by 2.<span/>\n"
   ]
  },
  {
   "cell_type": "code",
   "execution_count": 6,
   "id": "56c4caa5-dff9-4f2a-8429-83ed939e1694",
   "metadata": {},
   "outputs": [
    {
     "name": "stdout",
     "output_type": "stream",
     "text": [
      "Original set: {2, 4, 10, 12, 15}\n",
      "The set after multiplying all elements by 2:  {4, 8, 20, 24, 30}\n"
     ]
    }
   ],
   "source": [
    "elements = {2,4,10,15,12}\n",
    "print(\"Original set:\",elements)\n",
    "my_set = set()\n",
    "for i in elements :\n",
    "    my_set.add(i*2)\n",
    "print(\"The set after multiplying all elements by 2: \",my_set)"
   ]
  },
  {
   "cell_type": "markdown",
   "id": "574d7dbe-cb17-475d-ade4-5f0a96dad941",
   "metadata": {},
   "source": [
    "### <span style =\"color:green;\">28. Create a set of random numbers.<span/>\n"
   ]
  },
  {
   "cell_type": "code",
   "execution_count": 11,
   "id": "735c0c73-5e1c-4e96-9975-395e990960ce",
   "metadata": {},
   "outputs": [
    {
     "name": "stdout",
     "output_type": "stream",
     "text": [
      "Set of random numbers : {32, 160, 164, 68, 478, 211, 372, 153, 157, 126}\n"
     ]
    }
   ],
   "source": [
    "import random\n",
    "random_numbers_set = set()\n",
    "for i in range(10):# lenth of the set will be 10\n",
    "    random_numbers = random.randint(1,500)\n",
    "    random_numbers_set.add(random_numbers)\n",
    "print(\"Set of random numbers :\",random_numbers_set)"
   ]
  },
  {
   "cell_type": "markdown",
   "id": "035bb969-4aae-49dc-99ae-ee443efae64b",
   "metadata": {},
   "source": [
    "### <span style =\"color:green;\">29. Check if a set is empty.<span/>\n"
   ]
  },
  {
   "cell_type": "code",
   "execution_count": 17,
   "id": "9a802c78-35b8-4530-adfa-f10d8858e7b2",
   "metadata": {},
   "outputs": [
    {
     "name": "stdout",
     "output_type": "stream",
     "text": [
      "The set is empty\n"
     ]
    }
   ],
   "source": [
    "my_set = set()\n",
    "if not my_set:\n",
    "    print(\"The set is empty\")\n",
    "else :\n",
    "    print(\"The set is not empty\")\n"
   ]
  },
  {
   "cell_type": "markdown",
   "id": "06bae5c4-c22f-40e9-b32f-3aef1fe2f16c",
   "metadata": {},
   "source": [
    "### <span style =\"color:green;\">30. Create a nested set (hint: use frozenset).<span/>\n"
   ]
  },
  {
   "cell_type": "code",
   "execution_count": 18,
   "id": "b41f1b70-1e65-470b-8ecd-ce62ad5a918c",
   "metadata": {},
   "outputs": [
    {
     "name": "stdout",
     "output_type": "stream",
     "text": [
      "Nested Set: {frozenset({1, 2, 3, 4}), frozenset({8, 9, 6, 7})}\n"
     ]
    }
   ],
   "source": [
    "set_1 = {1, 2, 3, 4}\n",
    "set_2 = {6, 7, 8, 9}\n",
    "frozen_set1 = frozenset(set_1)\n",
    "frozen_set2 = frozenset(set_2)\n",
    "nested_set = {frozen_set1, frozen_set2\n",
    "print(\"Nested Set:\", nested_set)"
   ]
  },
  {
   "cell_type": "markdown",
   "id": "35322fbd-0bfb-43cb-b028-b5db3f4edece",
   "metadata": {},
   "source": [
    "### <span style =\"color:green;\">31. Remove an element from a set using the discard method.<span/>\n"
   ]
  },
  {
   "cell_type": "code",
   "execution_count": 21,
   "id": "2b887e5b-9981-4662-9237-707fcee64543",
   "metadata": {},
   "outputs": [
    {
     "name": "stdout",
     "output_type": "stream",
     "text": [
      "Original set : {2, 4, 6, 7}\n",
      "The set after removing 6 : {2, 4, 7}\n"
     ]
    }
   ],
   "source": [
    "my_set = {2,4,6,7}\n",
    "print(\"Original set :\",my_set)\n",
    "\n",
    "my_set.discard(6)\n",
    "print('The set after removing 6 :',my_set)"
   ]
  },
  {
   "cell_type": "markdown",
   "id": "87b6b1d6-8a83-4adb-bc3d-dbb63d68e5ce",
   "metadata": {},
   "source": [
    "### <span style =\"color:green;\">32. Compare two sets.<span/>\n"
   ]
  },
  {
   "cell_type": "code",
   "execution_count": 23,
   "id": "dad01fa1-b3c7-4d1f-8ac8-3e9f42973cc0",
   "metadata": {},
   "outputs": [
    {
     "name": "stdout",
     "output_type": "stream",
     "text": [
      "Set 1: {1, 2, 3, 4}\n",
      "Set 2: {4, 5, 6, 7}\n",
      "Is set1 a subset of set2? False\n",
      "Is set2 a subset of set1? False\n",
      "Intersection: {4}\n",
      "Union: {1, 2, 3, 4, 5, 6, 7}\n",
      "Elements in set1 but not in set2: {1, 2, 3}\n",
      "Elements in set2 but not in set1: {5, 6, 7}\n"
     ]
    }
   ],
   "source": [
    "set_1 = {1,2,3,4}\n",
    "set_2 = {4,5,6,7}\n",
    "\n",
    "is_subset = set_1.issubset(set_2)\n",
    "\n",
    "# Check if set2 is a subset of set1\n",
    "is_superset = set_1.issuperset(set_2)\n",
    "\n",
    "# Find the intersection of the sets\n",
    "intersection = set_1.intersection(set_2)\n",
    "\n",
    "# Find the union of the sets\n",
    "union = set_1.union(set_2)\n",
    "\n",
    "# Find the elements that are in set1 but not in set2\n",
    "difference1 = set_1.difference(set_2)\n",
    "\n",
    "# Find the elements that are in set2 but not in set1\n",
    "difference2 = set_2.difference(set_1)\n",
    "\n",
    "\n",
    "print(\"Set 1:\", set_1)\n",
    "print(\"Set 2:\", set_2)\n",
    "print(\"Is set1 a subset of set2?\", is_subset)\n",
    "print(\"Is set2 a subset of set1?\", is_superset)\n",
    "print(\"Intersection:\", intersection)\n",
    "print(\"Union:\", union)\n",
    "print(\"Elements in set1 but not in set2:\", difference1)\n",
    "print(\"Elements in set2 but not in set1:\", difference2)"
   ]
  },
  {
   "cell_type": "markdown",
   "id": "b5eb0992-9253-40ab-8184-f07a32c34abd",
   "metadata": {},
   "source": [
    "### <span style =\"color:green;\">33. Create a set from a string.<span/>\n"
   ]
  },
  {
   "cell_type": "code",
   "execution_count": 28,
   "id": "6e10ebbb-2002-4793-9e1a-468b5dbee882",
   "metadata": {},
   "outputs": [
    {
     "name": "stdout",
     "output_type": "stream",
     "text": [
      "{'t', 'i', 'a', 'm', 's'}\n"
     ]
    }
   ],
   "source": [
    "my_string = (\"asmita\")\n",
    "my_set = set()\n",
    "for i in my_string:\n",
    "    my_set.add(i)\n",
    "print(my_set)\n"
   ]
  },
  {
   "cell_type": "markdown",
   "id": "545466e6-a605-4e6b-908d-28de542d84cc",
   "metadata": {},
   "source": [
    "### <span style =\"color:green;\">34. Convert a set of strings to a set of integers.<span/>\n"
   ]
  },
  {
   "cell_type": "code",
   "execution_count": 30,
   "id": "84a54dbd-54c4-4fb3-a3a8-91cd0ef53465",
   "metadata": {},
   "outputs": [
    {
     "name": "stdout",
     "output_type": "stream",
     "text": [
      "Set of string: {'48', '25', '32'}\n",
      "Set of integer:  {48, 25, 32}\n"
     ]
    }
   ],
   "source": [
    "set_string = {\"25\",\"32\",\"48\"}\n",
    "print(\"Set of string:\", set_string)\n",
    "set_integer = set()\n",
    "for elements in set_string :\n",
    "    integer_value = int(elements)\n",
    "    set_integer.add(integer_value)\n",
    "print(\"Set of integer: \",set_integer)"
   ]
  },
  {
   "cell_type": "markdown",
   "id": "4a75c8c5-ed61-4056-ae48-8f42dbfb8d74",
   "metadata": {},
   "source": [
    "### <span style =\"color:green;\">35. Convert a set of integers to a set of strings.<span/>\n"
   ]
  },
  {
   "cell_type": "code",
   "execution_count": 32,
   "id": "aba267cc-ee49-46e5-bb7a-2ea4de57f697",
   "metadata": {},
   "outputs": [
    {
     "name": "stdout",
     "output_type": "stream",
     "text": [
      "Set of integers: {48, 25, 32}\n",
      "Set of string:  {'48', '25', '32'}\n"
     ]
    }
   ],
   "source": [
    "set_integers= {48, 25, 32}\n",
    "print(\"Set of integers:\", set_integers)\n",
    "set_string = set()\n",
    "for elements in set_integers :\n",
    "    string_value = str(elements)\n",
    "    set_string.add(string_value)\n",
    "print(\"Set of string: \",set_string)"
   ]
  },
  {
   "cell_type": "markdown",
   "id": "7e8fd5e8-da33-482e-8ca0-d6a807600482",
   "metadata": {},
   "source": [
    "### <span style =\"color:green;\">36. Create a set from a tuple.<span/>\n"
   ]
  },
  {
   "cell_type": "code",
   "execution_count": 36,
   "id": "2d5a8eb0-4f5c-467b-9449-19327e723b8a",
   "metadata": {},
   "outputs": [
    {
     "name": "stdout",
     "output_type": "stream",
     "text": [
      "Tuple : ('hello', 'asmita', 23, 'python')\n",
      "The set created from the tuple : {'python', 'hello', 23, 'asmita'}\n"
     ]
    }
   ],
   "source": [
    "my_tuple = (\"hello\",\"asmita\",23,\"python\")\n",
    "print(\"Tuple :\",my_tuple)\n",
    "set_from_tuple = set(my_tuple)\n",
    "print(\"The set created from the tuple :\",set_from_tuple)"
   ]
  },
  {
   "cell_type": "markdown",
   "id": "badb3216-242c-4f11-85f8-f5a22415b4f1",
   "metadata": {},
   "source": [
    "### <span style =\"color:green;\">37. Convert a set to a tuple.<span/>\n"
   ]
  },
  {
   "cell_type": "code",
   "execution_count": 37,
   "id": "def97eb0-cb0a-4141-9035-d34ef4cacd0a",
   "metadata": {},
   "outputs": [
    {
     "name": "stdout",
     "output_type": "stream",
     "text": [
      "originsl set : {'python', 'hello', 'asmita', 23}\n",
      "The tuple created from the set : ('python', 'hello', 'asmita', 23)\n"
     ]
    }
   ],
   "source": [
    "my_set = {'python', 'hello', 23, 'asmita'}\n",
    "print(\"originsl set :\",my_set)\n",
    "tuple_from_set = tuple(my_set)\n",
    "print(\"The tuple created from the set :\",tuple_from_set)"
   ]
  },
  {
   "cell_type": "markdown",
   "id": "b8b547ef-43b4-4971-9535-046c2f7dc484",
   "metadata": {},
   "source": [
    "### <span style =\"color:green;\">38. Find the maximum value in a set.<span/>\n"
   ]
  },
  {
   "cell_type": "code",
   "execution_count": 39,
   "id": "80f928ce-272a-41aa-89ce-06dbb8d3570f",
   "metadata": {},
   "outputs": [
    {
     "name": "stdout",
     "output_type": "stream",
     "text": [
      "The maximum value in the set is : 2\n"
     ]
    }
   ],
   "source": [
    "my_set = {2,23,6,12,18}\n",
    "max_value = None\n",
    "for i in my_set:\n",
    "    if max_value ==  None or i >max_value:\n",
    "        max_value = i \n",
    "print(\"The maximum value in the set is :\",max_value)"
   ]
  },
  {
   "cell_type": "markdown",
   "id": "a684a681-4990-49c3-8488-75eccd4171f4",
   "metadata": {},
   "source": [
    "### <span style =\"color:green;\">39. Find the minimum value in a set.<span/>\n"
   ]
  },
  {
   "cell_type": "code",
   "execution_count": 40,
   "id": "34a5a740-c1bc-453c-b13f-627a61f36289",
   "metadata": {},
   "outputs": [
    {
     "name": "stdout",
     "output_type": "stream",
     "text": [
      "The minimum value in the set is : 7\n"
     ]
    }
   ],
   "source": [
    "my_set = {12,20,14,15,7,25}\n",
    "min_value = None\n",
    "for i in my_set:\n",
    "    if min_value ==  None or i < min_value:\n",
    "        min_value = i \n",
    "print(\"The minimum value in the set is :\",min_value)"
   ]
  },
  {
   "cell_type": "markdown",
   "id": "a7fc5eff-6b25-4c7e-aeeb-9fef723d1700",
   "metadata": {},
   "source": [
    "### <span style =\"color:green;\">40. Create a set from user input.<span/>\n"
   ]
  },
  {
   "cell_type": "code",
   "execution_count": 45,
   "id": "5a8f21f5-b33f-458e-b404-9331ae8d315c",
   "metadata": {},
   "outputs": [
    {
     "name": "stdin",
     "output_type": "stream",
     "text": [
      "Enter space-separated words:  asmita python hello das\n"
     ]
    },
    {
     "name": "stdout",
     "output_type": "stream",
     "text": [
      "{'das', 'python', 'hello', 'asmita'}\n"
     ]
    }
   ],
   "source": [
    "my_set = set(input('Enter space-separated words: ').split())\n",
    "\n",
    "print(my_set)"
   ]
  },
  {
   "cell_type": "markdown",
   "id": "00342743-4cdf-4860-a11f-a5d6611063be",
   "metadata": {},
   "source": [
    "### <span style =\"color:green;\">41. Check if the intersection of two sets is empty.<span/>\n"
   ]
  },
  {
   "cell_type": "code",
   "execution_count": 47,
   "id": "42a3120f-e8cb-4458-841e-4ea95a19a0f6",
   "metadata": {},
   "outputs": [
    {
     "name": "stdout",
     "output_type": "stream",
     "text": [
      "The intersection of the two sets is empty.\n"
     ]
    }
   ],
   "source": [
    "set1 = {1, 2, 3, 4, 5}\n",
    "set2 = {9, 10, 6, 7, 8}\n",
    "\n",
    "intersection_result = set1.intersection(set2)\n",
    "\n",
    "if not intersection_result:\n",
    "    print(\"The intersection of the two sets is empty.\")\n",
    "else:\n",
    "    print(\"The intersection of the two sets is not empty.\")"
   ]
  },
  {
   "cell_type": "markdown",
   "id": "d052a52a-a9bf-4343-aad5-b68702a8983e",
   "metadata": {},
   "source": [
    "### <span style =\"color:green;\">42. Create a set of the first 5 Fibonacci numbers.<span/>\n"
   ]
  },
  {
   "cell_type": "code",
   "execution_count": 54,
   "id": "dc3d4de3-b8d0-4bad-b007-be7bb4084a5b",
   "metadata": {},
   "outputs": [
    {
     "name": "stdout",
     "output_type": "stream",
     "text": [
      "Set of the first 5 Fibonacci numbers:  {0, 1, 2, 3, 5}\n"
     ]
    }
   ],
   "source": [
    "a, b = 0, 1\n",
    "fib_set = set()\n",
    "for i in range(6):\n",
    "    fib_set.add(a)\n",
    "    a, b = b, a + b\n",
    "print(\"Set of the first 5 Fibonacci numbers: \",fib_set)"
   ]
  },
  {
   "cell_type": "markdown",
   "id": "8cf14f00-733c-408f-9042-2fbcc708b5f5",
   "metadata": {},
   "source": [
    "### <span style =\"color:green;\">43. Remove duplicates from a list using sets.<span/>\n"
   ]
  },
  {
   "cell_type": "code",
   "execution_count": 58,
   "id": "eac015a6-7f19-4b0f-b2cd-8b13c2a0eb00",
   "metadata": {},
   "outputs": [
    {
     "name": "stdout",
     "output_type": "stream",
     "text": [
      "Original list:  [10, 12, 14, 14, 115, 18, 10, 16]\n",
      "New list after removing duplicates : [10, 12, 14, 16, 18, 115]\n"
     ]
    }
   ],
   "source": [
    "my_list =[10,12,14,14,115,18,10,16]\n",
    "my_set = set(my_list)\n",
    "new_list =list(my_set)\n",
    "print(\"Original list: \",my_list)\n",
    "print(\"New list after removing duplicates :\",new_list)"
   ]
  },
  {
   "cell_type": "markdown",
   "id": "6a4a8ae6-a5d0-40a0-aeed-0eaeeaddce6f",
   "metadata": {},
   "source": [
    "### <span style =\"color:green;\">44. Check if two sets have the same elements, regardless of their count.<span/>\n"
   ]
  },
  {
   "cell_type": "code",
   "execution_count": 65,
   "id": "3deff2b6-a3fb-489a-a26b-4a8bcaac9ea4",
   "metadata": {},
   "outputs": [
    {
     "name": "stdout",
     "output_type": "stream",
     "text": [
      "The sets do not have the same elements.\n"
     ]
    }
   ],
   "source": [
    "set_1 = {1,2,3,4,5}\n",
    "set_2 = {9,10,6,7,8}\n",
    "def have_same_elements(set_1, set_2):\n",
    "    sorted_list1 = sorted(list(set_1))\n",
    "    sorted_list2 = sorted(list(set_2))\n",
    "    \n",
    "    return sorted_list1 == sorted_list2\n",
    "result = have_same_elements(set_1, set_2)\n",
    "\n",
    "if result:\n",
    "    print(\"The sets have the same elements.\")\n",
    "else:\n",
    "    print(\"The sets do not have the same elements.\")\n"
   ]
  },
  {
   "cell_type": "markdown",
   "id": "6fec45b1-b9ae-4630-aab8-9c66cc4ef9ae",
   "metadata": {},
   "source": [
    "### <span style =\"color:green;\">45. Create a set of the first `n` powers of 2.<span/>\n"
   ]
  },
  {
   "cell_type": "code",
   "execution_count": 67,
   "id": "7fa8d0cd-f1f8-4e5c-933c-a6c9363381bf",
   "metadata": {},
   "outputs": [
    {
     "name": "stdout",
     "output_type": "stream",
     "text": [
      "{1, 2, 4, 8, 16}\n"
     ]
    }
   ],
   "source": [
    "powers_of_2_set = set()\n",
    "\n",
    "n = 5  # define the power of n\n",
    "for i in range(n):\n",
    "    power = 2**i\n",
    "    powers_of_2_set.add(power)\n",
    "print(powers_of_2_set)"
   ]
  },
  {
   "cell_type": "markdown",
   "id": "c56bbfb6-083f-4820-aa09-c639c3f3f21e",
   "metadata": {},
   "source": [
    "### <span style =\"color:green;\">46. Find the common elements between a set and a list.<span/>\n"
   ]
  },
  {
   "cell_type": "code",
   "execution_count": 80,
   "id": "68cf14c0-aafb-4cd4-a0f0-4bfb7b046627",
   "metadata": {},
   "outputs": [
    {
     "name": "stdout",
     "output_type": "stream",
     "text": [
      "Common elements : [2, 6, 8]\n"
     ]
    }
   ],
   "source": [
    "my_list =[2,4,5,6,8]\n",
    "my_set = [2,6,8,9,10]\n",
    "list_to_set = set(my_list)\n",
    "common_element = []\n",
    "for element in my_set:\n",
    "    if element in list_to_set:\n",
    "        common_element.append(element)\n",
    "print(\"Common elements :\",common_element)"
   ]
  },
  {
   "cell_type": "markdown",
   "id": "7f68910e-37f5-41c2-9ef3-631493a21e76",
   "metadata": {},
   "source": [
    "### <span style =\"color:green;\">47. Create a set of the first `n` triangular numbers.<span/>\n"
   ]
  },
  {
   "cell_type": "code",
   "execution_count": 83,
   "id": "113fc9c8-2b9d-4bab-a68f-5d0468d16eb6",
   "metadata": {},
   "outputs": [
    {
     "name": "stdin",
     "output_type": "stream",
     "text": [
      "The Value of n : 5\n"
     ]
    },
    {
     "name": "stdout",
     "output_type": "stream",
     "text": [
      "The first  5 triangular numbers : {1, 3, 6, 10, 15}\n"
     ]
    }
   ],
   "source": [
    "triangular_numbers = set()\n",
    "n = int(input(\"The Value of n :\"))\n",
    "\n",
    "for i in range(1, n + 1):\n",
    "    triangular_number = i * (i + 1) // 2  \n",
    "    triangular_numbers.add(triangular_number)\n",
    "print(\"The first \",n,\"triangular numbers :\",triangular_numbers)\n"
   ]
  },
  {
   "cell_type": "markdown",
   "id": "62fb9bc7-99cc-493e-9244-b21f1d44ce70",
   "metadata": {},
   "source": [
    "### <span style =\"color:green;\">48. Check if a set contains another set as a subset.<span/>\n"
   ]
  },
  {
   "cell_type": "code",
   "execution_count": 94,
   "id": "e27c638f-4348-46eb-b697-d2db45571f76",
   "metadata": {},
   "outputs": [
    {
     "name": "stdout",
     "output_type": "stream",
     "text": [
      "Yes the set is subset to another set\n"
     ]
    }
   ],
   "source": [
    "set_1 = {1,2,3,4,5}\n",
    "set_2 = {1,2,3}\n",
    "is_subset = set_2.issubset(set_1)\n",
    "if  is_subset:\n",
    "    print(\"Yes the set is subset to another set\")\n",
    "else:\n",
    "    print(\"No the set is not subset to another set\")"
   ]
  },
  {
   "cell_type": "markdown",
   "id": "52b3a43a-64cc-491c-a762-25a79c58b943",
   "metadata": {},
   "source": [
    "### <span style =\"color:green;\">49. Create a set of alternating 1s and 0s of length `n`.<span/>\n"
   ]
  },
  {
   "cell_type": "code",
   "execution_count": 96,
   "id": "a24b43c5-278c-4c2f-97ac-a54816906809",
   "metadata": {},
   "outputs": [
    {
     "name": "stdout",
     "output_type": "stream",
     "text": [
      "Set of alternating 1s and 0s: {0, 1}\n"
     ]
    }
   ],
   "source": [
    "n = 10\n",
    "alternating_set = set(i % 2 for i in range(n))\n",
    "\n",
    "# Print the tuple of alternating 1s and 0s\n",
    "print(\"Set of alternating 1s and 0s:\", alternating_set)"
   ]
  },
  {
   "cell_type": "markdown",
   "id": "a880ccd8-c6c7-4017-ba7a-edb426f5de58",
   "metadata": {},
   "source": [
    "### <span style =\"color:green;\">50. Merge multiple sets into one.<span/>\n"
   ]
  },
  {
   "cell_type": "code",
   "execution_count": 97,
   "id": "3b4a6411-3f60-4230-a24a-6f44443ccc13",
   "metadata": {},
   "outputs": [
    {
     "name": "stdout",
     "output_type": "stream",
     "text": [
      "Merged Set: {1, 2, 3, 4, 5, 6, 7, 8}\n"
     ]
    }
   ],
   "source": [
    "set1 = {1,2,3}\n",
    "set2 = {4,5,6}\n",
    "set3 = {6,7,8}\n",
    "\n",
    "merged_set = set1.union(set2, set3)\n",
    "\n",
    "print(\"Merged Set:\", merged_set)"
   ]
  },
  {
   "cell_type": "code",
   "execution_count": null,
   "id": "5bcb4655-93fd-46ed-9679-2b69d29cf6fe",
   "metadata": {},
   "outputs": [],
   "source": []
  }
 ],
 "metadata": {
  "kernelspec": {
   "display_name": "Python 3 (ipykernel)",
   "language": "python",
   "name": "python3"
  },
  "language_info": {
   "codemirror_mode": {
    "name": "ipython",
    "version": 3
   },
   "file_extension": ".py",
   "mimetype": "text/x-python",
   "name": "python",
   "nbconvert_exporter": "python",
   "pygments_lexer": "ipython3",
   "version": "3.10.9"
  }
 },
 "nbformat": 4,
 "nbformat_minor": 5
}
